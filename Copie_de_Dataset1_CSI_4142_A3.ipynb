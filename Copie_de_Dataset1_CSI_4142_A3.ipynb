{
  "nbformat": 4,
  "nbformat_minor": 0,
  "metadata": {
    "colab": {
      "provenance": [],
      "include_colab_link": true
    },
    "kernelspec": {
      "name": "python3",
      "display_name": "Python 3"
    },
    "language_info": {
      "name": "python"
    }
  },
  "cells": [
    {
      "cell_type": "markdown",
      "metadata": {
        "id": "view-in-github",
        "colab_type": "text"
      },
      "source": [
        "<a href=\"https://colab.research.google.com/github/Aichalfakir/CSI_4142-A3/blob/main/Copie_de_Dataset1_CSI_4142_A3.ipynb\" target=\"_parent\"><img src=\"https://colab.research.google.com/assets/colab-badge.svg\" alt=\"Open In Colab\"/></a>"
      ]
    },
    {
      "cell_type": "markdown",
      "source": [
        "# Predictive analysis Regression and Classification*"
      ],
      "metadata": {
        "id": "WVLweyDQ5NfJ"
      }
    },
    {
      "cell_type": "markdown",
      "source": [
        "# INTRODUCTION"
      ],
      "metadata": {
        "id": "I5Jcqu0Y4454"
      }
    },
    {
      "cell_type": "markdown",
      "source": [
        "\n",
        "\n",
        "This report analyzes the Medical Insurance Cost Prediction Dataset to understand insurance cost factors and develop a predictive model using linear regression, evaluating data cleaning, outlier detection, and feature engineering.\n",
        "\n",
        "\n",
        "*   **GOAL OF THE ANALYSIS**\n",
        "\n",
        "\n",
        "1. Identify key factors that influence medical insurance costs.\n",
        "2. Preprocess and clean the dataset to ensure high-quality data.\n",
        "3. Implement linear regression to predict insurance costs.\n",
        "\n",
        "\n",
        "*   **AUDIENCE**\n",
        "\n",
        "This report is intended for the following audiences:\n",
        "- Healthcare Analysts: To analyze medical cost drivers and risk factors.\n",
        "- Insurance Companies: To refine pricing models and risk assessment.\n",
        "- Policy Makers: To gain insights into factors affecting healthcare costs.\n"
      ],
      "metadata": {
        "id": "i9T46xcWBDq4"
      }
    },
    {
      "cell_type": "markdown",
      "source": [
        "# DATASETS IMPORTS AND LOADING"
      ],
      "metadata": {
        "id": "1ufh0kg0I6EZ"
      }
    },
    {
      "cell_type": "code",
      "source": [
        "import pandas as pd\n",
        "import numpy as np\n",
        "import matplotlib.pyplot as plt\n",
        "import seaborn as sns"
      ],
      "metadata": {
        "id": "5wiuUl9hJ5b8"
      },
      "execution_count": null,
      "outputs": []
    },
    {
      "cell_type": "code",
      "source": [
        "url1 = \"https://raw.githubusercontent.com/Aichalfakir/CSI_4142-A3/main/insurance.csv\"\n",
        "dataset_insurance = pd.read_csv(url1)\n",
        "\n",
        "print(\"Dataset 1: Medical Insurance\")\n",
        "print(dataset_insurance.shape)\n",
        "print(dataset_insurance.info())\n",
        "print(dataset_insurance.head())\n",
        "print(dataset_insurance.describe())\n"
      ],
      "metadata": {
        "colab": {
          "base_uri": "https://localhost:8080/"
        },
        "id": "nQM1LRV0KAs7",
        "outputId": "e90fd0f5-a4df-48ac-c209-9e9ae58db75b",
        "collapsed": true
      },
      "execution_count": null,
      "outputs": [
        {
          "output_type": "stream",
          "name": "stdout",
          "text": [
            "Dataset 1: Medical Insurance\n",
            "(1338, 7)\n",
            "<class 'pandas.core.frame.DataFrame'>\n",
            "RangeIndex: 1338 entries, 0 to 1337\n",
            "Data columns (total 7 columns):\n",
            " #   Column    Non-Null Count  Dtype  \n",
            "---  ------    --------------  -----  \n",
            " 0   age       1338 non-null   int64  \n",
            " 1   sex       1338 non-null   object \n",
            " 2   bmi       1338 non-null   float64\n",
            " 3   children  1338 non-null   int64  \n",
            " 4   smoker    1338 non-null   object \n",
            " 5   region    1338 non-null   object \n",
            " 6   charges   1338 non-null   float64\n",
            "dtypes: float64(2), int64(2), object(3)\n",
            "memory usage: 73.3+ KB\n",
            "None\n",
            "   age     sex     bmi  children smoker     region      charges\n",
            "0   19  female  27.900         0    yes  southwest  16884.92400\n",
            "1   18    male  33.770         1     no  southeast   1725.55230\n",
            "2   28    male  33.000         3     no  southeast   4449.46200\n",
            "3   33    male  22.705         0     no  northwest  21984.47061\n",
            "4   32    male  28.880         0     no  northwest   3866.85520\n",
            "               age          bmi     children       charges\n",
            "count  1338.000000  1338.000000  1338.000000   1338.000000\n",
            "mean     39.207025    30.663397     1.094918  13270.422265\n",
            "std      14.049960     6.098187     1.205493  12110.011237\n",
            "min      18.000000    15.960000     0.000000   1121.873900\n",
            "25%      27.000000    26.296250     0.000000   4740.287150\n",
            "50%      39.000000    30.400000     1.000000   9382.033000\n",
            "75%      51.000000    34.693750     2.000000  16639.912515\n",
            "max      64.000000    53.130000     5.000000  63770.428010\n"
          ]
        }
      ]
    },
    {
      "cell_type": "markdown",
      "source": [
        "# Data exploration"
      ],
      "metadata": {
        "id": "nT3mh8v9KbIY"
      }
    },
    {
      "cell_type": "markdown",
      "source": [
        "- Distribution of numerical variables"
      ],
      "metadata": {
        "id": "Sd_IpvRFHkrm"
      }
    },
    {
      "cell_type": "code",
      "source": [
        "fig, axes = plt.subplots(1, 3, figsize=(18, 5))\n",
        "sns.histplot(dataset_insurance['age'], bins=30, kde=True, ax=axes[0]).set_title('Age distribution')\n",
        "sns.histplot(dataset_insurance['bmi'], bins=30, kde=True, ax=axes[1]).set_title('BMI distribution')\n",
        "sns.histplot(dataset_insurance['charges'], bins=30, kde=True, ax=axes[2]).set_title('Charges distribution')\n",
        "plt.show()"
      ],
      "metadata": {
        "colab": {
          "base_uri": "https://localhost:8080/",
          "height": 384
        },
        "collapsed": true,
        "id": "dRsGARefHmX5",
        "outputId": "b23ff0c1-f431-4ac8-81b6-93cd494d2b2a"
      },
      "execution_count": null,
      "outputs": [
        {
          "output_type": "display_data",
          "data": {
            "text/plain": [
              "<Figure size 1800x500 with 3 Axes>"
            ],
            "image/png": "[encoded data removed]"
          },
          "metadata": {}
        }
      ]
    },
    {
      "cell_type": "markdown",
      "source": [
        "- Distribution of categorical variables"
      ],
      "metadata": {
        "id": "jzwKtavFHwA3"
      }
    },
    {
      "cell_type": "code",
      "source": [
        "fig, axes = plt.subplots(1, 3, figsize=(18, 5))\n",
        "sns.countplot(x='sex', data=dataset_insurance, ax=axes[0]).set_title('Sex distribution')\n",
        "sns.countplot(x='smoker', data=dataset_insurance, ax=axes[1]).set_title('Distribution of smokers')\n",
        "sns.countplot(x='region', data=dataset_insurance, ax=axes[2]).set_title('Distribution by region')\n",
        "plt.show()"
      ],
      "metadata": {
        "colab": {
          "base_uri": "https://localhost:8080/",
          "height": 384
        },
        "collapsed": true,
        "id": "HsOXjfjRHxdB",
        "outputId": "0f309a65-e7bf-43cd-b8c5-46ffdebfe39d"
      },
      "execution_count": null,
      "outputs": [
        {
          "output_type": "display_data",
          "data": {
            "text/plain": [
              "<Figure size 1800x500 with 3 Axes>"
            ],
            "image/png": "[encoded data removed]"
          },
          "metadata": {}
        }
      ]
    },
    {
      "cell_type": "markdown",
      "source": [
        "- Correlation analysis"
      ],
      "metadata": {
        "id": "OCxRQfwiIFT9"
      }
    },
    {
      "cell_type": "code",
      "source": [
        "# Create a copy of the dataset so as not to modify the original data\n",
        "dataset_numeric = dataset_insurance.copy()\n",
        "\n",
        "# Encoding 'sex' and 'smoker' into binary variables (0 and 1)\n",
        "dataset_numeric['sex'] = dataset_numeric['sex'].map({'male': 1, 'female': 0})\n",
        "dataset_numeric['smoker'] = dataset_numeric['smoker'].map({'yes': 1, 'no': 0})\n",
        "\n",
        "# One-Hot Encoding for 'region' (multiple binary columns)\n",
        "dataset_numeric = pd.get_dummies(dataset_numeric, columns=['region'])\n",
        "\n",
        "# Check that all columns are numeric\n",
        "print(dataset_numeric.dtypes)\n"
      ],
      "metadata": {
        "colab": {
          "base_uri": "https://localhost:8080/"
        },
        "collapsed": true,
        "id": "SR-QsuyeJYOx",
        "outputId": "c81e1c97-f7af-4f61-8016-61422a654016"
      },
      "execution_count": null,
      "outputs": [
        {
          "output_type": "stream",
          "name": "stdout",
          "text": [
            "age                   int64\n",
            "sex                   int64\n",
            "bmi                 float64\n",
            "children              int64\n",
            "smoker                int64\n",
            "charges             float64\n",
            "region_northeast       bool\n",
            "region_northwest       bool\n",
            "region_southeast       bool\n",
            "region_southwest       bool\n",
            "dtype: object\n"
          ]
        }
      ]
    },
    {
      "cell_type": "code",
      "source": [
        "plt.figure(figsize=(10,6))\n",
        "sns.heatmap(dataset_numeric.corr(), annot=True, cmap='coolwarm', fmt='.2f')\n",
        "plt.title('Correlation matrix of variables')\n",
        "plt.show()\n"
      ],
      "metadata": {
        "colab": {
          "base_uri": "https://localhost:8080/",
          "height": 653
        },
        "collapsed": true,
        "id": "FqqurIGtIXx5",
        "outputId": "9c8cde53-83f9-48bd-a4cd-29c523224b50"
      },
      "execution_count": null,
      "outputs": [
        {
          "output_type": "display_data",
          "data": {
            "text/plain": [
              "<Figure size 1000x600 with 2 Axes>"
            ],
            "image/png": "[encoded data removed]"
          },
          "metadata": {}
        }
      ]
    },
    {
      "cell_type": "markdown",
      "source": [
        "# DATASETS DESCRIPTIONS"
      ],
      "metadata": {
        "id": "Th3fLuC_4b5F"
      }
    },
    {
      "cell_type": "markdown",
      "source": [
        "DATASET 1:\n",
        "\n",
        "\n",
        "*   **NAME**: Medical Cost Personal\n",
        "*   **AUTHOR**: Miri Choi\n",
        "*   **PURPOSE**: The dataset analyzes demographic and lifestyle factors' relationship with medical insurance costs, aiding in predictive modeling, risk assessment, and cost estimation for insurance companies and healthcare analysts.\n",
        "*   **SHAPE:** this dataset contains 1338 rows, 7 columns\n",
        "*   **LIST OF FEATURES**:\n",
        "\n",
        "\n",
        "| Column Name      |      Description        |         Data Type    |\n",
        "|-------------------------|---------------------------|--------------|\n",
        "|Age| age of primary beneficiary  | Numerical (Discrete)\n",
        "|Sex | insurance contractor gender| Categorical (Nominal)\n",
        "|bmi | Body Mass Index (BMI), a measure of body weight relative to height |Numerical (Continuous)\n",
        "|children|Number of children covered by health insurance / Number of dependents|Numerical (Discrete)\n",
        "|smoker|Whether the individual is a smoker (yes, no)|Categorical (Nominal)\n",
        "|region | the beneficiary's residential area in the US.|Categorical (Nominal)\n",
        "|charges | Individual medical costs billed by health insurance|Numerical (Continuous)"
      ],
      "metadata": {
        "id": "WeKL0IlV8fQO"
      }
    },
    {
      "cell_type": "markdown",
      "source": [
        "# Data Cleaning"
      ],
      "metadata": {
        "id": "8imqsVbUrZkC"
      }
    },
    {
      "cell_type": "markdown",
      "source": [
        "### Checking and handling missing values"
      ],
      "metadata": {
        "id": "N46J8NglSMLk"
      }
    },
    {
      "cell_type": "code",
      "source": [
        "# Check for missing values\n",
        "dataset_insurance.isnull().sum()"
      ],
      "metadata": {
        "colab": {
          "base_uri": "https://localhost:8080/",
          "height": 303
        },
        "id": "hLNF6chISYba",
        "outputId": "d10ff16d-bb1e-437f-9457-9e47ef5bfee8"
      },
      "execution_count": null,
      "outputs": [
        {
          "output_type": "execute_result",
          "data": {
            "text/plain": [
              "age         0\n",
              "sex         0\n",
              "bmi         0\n",
              "children    0\n",
              "smoker      0\n",
              "region      0\n",
              "charges     0\n",
              "dtype: int64"
            ],
            "text/html": [
              "<div>\n",
              "<style scoped>\n",
              "    .dataframe tbody tr th:only-of-type {\n",
              "        vertical-align: middle;\n",
              "    }\n",
              "\n",
              "    .dataframe tbody tr th {\n",
              "        vertical-align: top;\n",
              "    }\n",
              "\n",
              "    .dataframe thead th {\n",
              "        text-align: right;\n",
              "    }\n",
              "</style>\n",
              "<table border=\"1\" class=\"dataframe\">\n",
              "  <thead>\n",
              "    <tr style=\"text-align: right;\">\n",
              "      <th></th>\n",
              "      <th>0</th>\n",
              "    </tr>\n",
              "  </thead>\n",
              "  <tbody>\n",
              "    <tr>\n",
              "      <th>age</th>\n",
              "      <td>0</td>\n",
              "    </tr>\n",
              "    <tr>\n",
              "      <th>sex</th>\n",
              "      <td>0</td>\n",
              "    </tr>\n",
              "    <tr>\n",
              "      <th>bmi</th>\n",
              "      <td>0</td>\n",
              "    </tr>\n",
              "    <tr>\n",
              "      <th>children</th>\n",
              "      <td>0</td>\n",
              "    </tr>\n",
              "    <tr>\n",
              "      <th>smoker</th>\n",
              "      <td>0</td>\n",
              "    </tr>\n",
              "    <tr>\n",
              "      <th>region</th>\n",
              "      <td>0</td>\n",
              "    </tr>\n",
              "    <tr>\n",
              "      <th>charges</th>\n",
              "      <td>0</td>\n",
              "    </tr>\n",
              "  </tbody>\n",
              "</table>\n",
              "</div><br><label><b>dtype:</b> int64</label>"
            ]
          },
          "metadata": {},
          "execution_count": 8
        }
      ]
    },
    {
      "cell_type": "markdown",
      "source": [
        "Result: There are no missing values ​​in the dataset, meaning no imputation is necessary."
      ],
      "metadata": {
        "id": "Zu5Ebv-OT3cW"
      }
    },
    {
      "cell_type": "markdown",
      "source": [
        "### Encoding categorical variables"
      ],
      "metadata": {
        "id": "MSX4JGLkUBlz"
      }
    },
    {
      "cell_type": "code",
      "source": [
        "# Encoding categorical variables\n",
        "dataset_insurance['sex'] = dataset_insurance['sex'].map({'male': 1, 'female': 0})\n",
        "dataset_insurance['smoker'] = dataset_insurance['smoker'].map({'yes': 1, 'no': 0})\n",
        "dataset_insurance = pd.get_dummies(dataset_insurance, columns=['region'])"
      ],
      "metadata": {
        "id": "ulNEuAgNUn6h"
      },
      "execution_count": null,
      "outputs": []
    },
    {
      "cell_type": "markdown",
      "source": [
        "### Detection and treatment of outliers"
      ],
      "metadata": {
        "id": "5HDsigTLU19Q"
      }
    },
    {
      "cell_type": "markdown",
      "source": [
        "We use the Local Outlier Factor (LOF) method to detect outliers:"
      ],
      "metadata": {
        "id": "XtDCaBdTVar1"
      }
    },
    {
      "cell_type": "code",
      "source": [
        "from sklearn.neighbors import LocalOutlierFactor\n",
        "\n",
        "# Apply LOF to detect outliers\n",
        "lof = LocalOutlierFactor(n_neighbors=20)\n",
        "outliers = lof.fit_predict(dataset_insurance.select_dtypes(include=['float64', 'int64']))\n",
        "\n",
        "# Convert LOF values ​​to an \"Outlier\" column\n",
        "dataset_insurance = dataset_insurance.copy()\n",
        "dataset_insurance[\"Outlier\"] = outliers\n",
        "\n",
        "# Check the addition of the column\n",
        "print(dataset_insurance.columns)\n"
      ],
      "metadata": {
        "colab": {
          "base_uri": "https://localhost:8080/"
        },
        "id": "BLRE4GT7VgJL",
        "outputId": "e42a17e9-0dff-4585-9fcc-6fbff299f99c"
      },
      "execution_count": null,
      "outputs": [
        {
          "output_type": "stream",
          "name": "stdout",
          "text": [
            "Index(['age', 'sex', 'bmi', 'children', 'smoker', 'charges',\n",
            "       'region_northeast', 'region_northwest', 'region_southeast',\n",
            "       'region_southwest', 'Outlier'],\n",
            "      dtype='object')\n"
          ]
        }
      ]
    },
    {
      "cell_type": "code",
      "source": [
        "# Removal of outliers detected by LOF\n",
        "dataset_insurance = dataset_insurance[dataset_insurance[\"Outlier\"] == 1].copy()\n",
        "\n",
        "# Removed the \"Outlier\" column as it is no longer needed\n",
        "dataset_insurance.drop(columns=[\"Outlier\"], inplace=True)\n",
        "\n",
        "# Check new dataset size after deletion\n",
        "print(f\"New dataset size after removing outliers : {dataset_insurance.shape}\")"
      ],
      "metadata": {
        "colab": {
          "base_uri": "https://localhost:8080/"
        },
        "id": "w0jWfiQ0Ynq_",
        "outputId": "15d4fafd-dbb6-49f6-af71-a335218e4177"
      },
      "execution_count": null,
      "outputs": [
        {
          "output_type": "stream",
          "name": "stdout",
          "text": [
            "New dataset size after removing outliers : (1318, 10)\n"
          ]
        }
      ]
    },
    {
      "cell_type": "markdown",
      "source": [
        "# Predictive analysis: Linear regression"
      ],
      "metadata": {
        "id": "nk2Ex6iQy43M"
      }
    },
    {
      "cell_type": "markdown",
      "source": [
        "The cost of insurance is predicted using a linear regression model based on available variables."
      ],
      "metadata": {
        "id": "1loQuGv_IpV5"
      }
    },
    {
      "cell_type": "code",
      "source": [
        "#Separation of data into training and test sets\n",
        "from sklearn.model_selection import train_test_split\n",
        "\n",
        "# Define the independent variables (X) and the dependent variable (y)\n",
        "X = dataset_insurance.drop(columns=['charges'])\n",
        "y = dataset_insurance['charges']\n",
        "\n",
        "# Split data into 80% training and 20% testing\n",
        "X_train, X_test, y_train, y_test = train_test_split(X, y, test_size=0.2, random_state=42)"
      ],
      "metadata": {
        "id": "rkUGbhewJq-G"
      },
      "execution_count": null,
      "outputs": []
    },
    {
      "cell_type": "code",
      "source": [
        "# Model training\n",
        "from sklearn.linear_model import LinearRegression\n",
        "\n",
        "# Model initialization and training\n",
        "model = LinearRegression()\n",
        "model.fit(X_train, y_train)"
      ],
      "metadata": {
        "colab": {
          "base_uri": "https://localhost:8080/",
          "height": 80
        },
        "id": "kdTQaj8sKDHy",
        "outputId": "5db330b8-8cc6-41eb-9671-fcb770b2c834"
      },
      "execution_count": null,
      "outputs": [
        {
          "output_type": "execute_result",
          "data": {
            "text/plain": [
              "LinearRegression()"
            ],
            "text/html": [
              "<style>#sk-container-id-1 {\n",
              "  /* Definition of color scheme common for light and dark mode */\n",
              "  --sklearn-color-text: #000;\n",
              "  --sklearn-color-text-muted: #666;\n",
              "  --sklearn-color-line: gray;\n",
              "  /* Definition of color scheme for unfitted estimators */\n",
              "  --sklearn-color-unfitted-level-0: #fff5e6;\n",
              "  --sklearn-color-unfitted-level-1: #f6e4d2;\n",
              "  --sklearn-color-unfitted-level-2: #ffe0b3;\n",
              "  --sklearn-color-unfitted-level-3: chocolate;\n",
              "  /* Definition of color scheme for fitted estimators */\n",
              "  --sklearn-color-fitted-level-0: #f0f8ff;\n",
              "  --sklearn-color-fitted-level-1: #d4ebff;\n",
              "  --sklearn-color-fitted-level-2: #b3dbfd;\n",
              "  --sklearn-color-fitted-level-3: cornflowerblue;\n",
              "\n",
              "  /* Specific color for light theme */\n",
              "  --sklearn-color-text-on-default-background: var(--sg-text-color, var(--theme-code-foreground, var(--jp-content-font-color1, black)));\n",
              "  --sklearn-color-background: var(--sg-background-color, var(--theme-background, var(--jp-layout-color0, white)));\n",
              "  --sklearn-color-border-box: var(--sg-text-color, var(--theme-code-foreground, var(--jp-content-font-color1, black)));\n",
              "  --sklearn-color-icon: #696969;\n",
              "\n",
              "  @media (prefers-color-scheme: dark) {\n",
              "    /* Redefinition of color scheme for dark theme */\n",
              "    --sklearn-color-text-on-default-background: var(--sg-text-color, var(--theme-code-foreground, var(--jp-content-font-color1, white)));\n",
              "    --sklearn-color-background: var(--sg-background-color, var(--theme-background, var(--jp-layout-color0, #111)));\n",
              "    --sklearn-color-border-box: var(--sg-text-color, var(--theme-code-foreground, var(--jp-content-font-color1, white)));\n",
              "    --sklearn-color-icon: #878787;\n",
              "  }\n",
              "}\n",
              "\n",
              "#sk-container-id-1 {\n",
              "  color: var(--sklearn-color-text);\n",
              "}\n",
              "\n",
              "#sk-container-id-1 pre {\n",
              "  padding: 0;\n",
              "}\n",
              "\n",
              "#sk-container-id-1 input.sk-hidden--visually {\n",
              "  border: 0;\n",
              "  clip: rect(1px 1px 1px 1px);\n",
              "  clip: rect(1px, 1px, 1px, 1px);\n",
              "  height: 1px;\n",
              "  margin: -1px;\n",
              "  overflow: hidden;\n",
              "  padding: 0;\n",
              "  position: absolute;\n",
              "  width: 1px;\n",
              "}\n",
              "\n",
              "#sk-container-id-1 div.sk-dashed-wrapped {\n",
              "  border: 1px dashed var(--sklearn-color-line);\n",
              "  margin: 0 0.4em 0.5em 0.4em;\n",
              "  box-sizing: border-box;\n",
              "  padding-bottom: 0.4em;\n",
              "  background-color: var(--sklearn-color-background);\n",
              "}\n",
              "\n",
              "#sk-container-id-1 div.sk-container {\n",
              "  /* jupyter's `normalize.less` sets `[hidden] { display: none; }`\n",
              "     but bootstrap.min.css set `[hidden] { display: none !important; }`\n",
              "     so we also need the `!important` here to be able to override the\n",
              "     default hidden behavior on the sphinx rendered scikit-learn.org.\n",
              "     See: https://github.com/scikit-learn/scikit-learn/issues/21755 */\n",
              "  display: inline-block !important;\n",
              "  position: relative;\n",
              "}\n",
              "\n",
              "#sk-container-id-1 div.sk-text-repr-fallback {\n",
              "  display: none;\n",
              "}\n",
              "\n",
              "div.sk-parallel-item,\n",
              "div.sk-serial,\n",
              "div.sk-item {\n",
              "  /* draw centered vertical line to link estimators */\n",
              "  background-image: linear-gradient(var(--sklearn-color-text-on-default-background), var(--sklearn-color-text-on-default-background));\n",
              "  background-size: 2px 100%;\n",
              "  background-repeat: no-repeat;\n",
              "  background-position: center center;\n",
              "}\n",
              "\n",
              "/* Parallel-specific style estimator block */\n",
              "\n",
              "#sk-container-id-1 div.sk-parallel-item::after {\n",
              "  content: \"\";\n",
              "  width: 100%;\n",
              "  border-bottom: 2px solid var(--sklearn-color-text-on-default-background);\n",
              "  flex-grow: 1;\n",
              "}\n",
              "\n",
              "#sk-container-id-1 div.sk-parallel {\n",
              "  display: flex;\n",
              "  align-items: stretch;\n",
              "  justify-content: center;\n",
              "  background-color: var(--sklearn-color-background);\n",
              "  position: relative;\n",
              "}\n",
              "\n",
              "#sk-container-id-1 div.sk-parallel-item {\n",
              "  display: flex;\n",
              "  flex-direction: column;\n",
              "}\n",
              "\n",
              "#sk-container-id-1 div.sk-parallel-item:first-child::after {\n",
              "  align-self: flex-end;\n",
              "  width: 50%;\n",
              "}\n",
              "\n",
              "#sk-container-id-1 div.sk-parallel-item:last-child::after {\n",
              "  align-self: flex-start;\n",
              "  width: 50%;\n",
              "}\n",
              "\n",
              "#sk-container-id-1 div.sk-parallel-item:only-child::after {\n",
              "  width: 0;\n",
              "}\n",
              "\n",
              "/* Serial-specific style estimator block */\n",
              "\n",
              "#sk-container-id-1 div.sk-serial {\n",
              "  display: flex;\n",
              "  flex-direction: column;\n",
              "  align-items: center;\n",
              "  background-color: var(--sklearn-color-background);\n",
              "  padding-right: 1em;\n",
              "  padding-left: 1em;\n",
              "}\n",
              "\n",
              "\n",
              "/* Toggleable style: style used for estimator/Pipeline/ColumnTransformer box that is\n",
              "clickable and can be expanded/collapsed.\n",
              "- Pipeline and ColumnTransformer use this feature and define the default style\n",
              "- Estimators will overwrite some part of the style using the `sk-estimator` class\n",
              "*/\n",
              "\n",
              "/* Pipeline and ColumnTransformer style (default) */\n",
              "\n",
              "#sk-container-id-1 div.sk-toggleable {\n",
              "  /* Default theme specific background. It is overwritten whether we have a\n",
              "  specific estimator or a Pipeline/ColumnTransformer */\n",
              "  background-color: var(--sklearn-color-background);\n",
              "}\n",
              "\n",
              "/* Toggleable label */\n",
              "#sk-container-id-1 label.sk-toggleable__label {\n",
              "  cursor: pointer;\n",
              "  display: flex;\n",
              "  width: 100%;\n",
              "  margin-bottom: 0;\n",
              "  padding: 0.5em;\n",
              "  box-sizing: border-box;\n",
              "  text-align: center;\n",
              "  align-items: start;\n",
              "  justify-content: space-between;\n",
              "  gap: 0.5em;\n",
              "}\n",
              "\n",
              "#sk-container-id-1 label.sk-toggleable__label .caption {\n",
              "  font-size: 0.6rem;\n",
              "  font-weight: lighter;\n",
              "  color: var(--sklearn-color-text-muted);\n",
              "}\n",
              "\n",
              "#sk-container-id-1 label.sk-toggleable__label-arrow:before {\n",
              "  /* Arrow on the left of the label */\n",
              "  content: \"▸\";\n",
              "  float: left;\n",
              "  margin-right: 0.25em;\n",
              "  color: var(--sklearn-color-icon);\n",
              "}\n",
              "\n",
              "#sk-container-id-1 label.sk-toggleable__label-arrow:hover:before {\n",
              "  color: var(--sklearn-color-text);\n",
              "}\n",
              "\n",
              "/* Toggleable content - dropdown */\n",
              "\n",
              "#sk-container-id-1 div.sk-toggleable__content {\n",
              "  max-height: 0;\n",
              "  max-width: 0;\n",
              "  overflow: hidden;\n",
              "  text-align: left;\n",
              "  /* unfitted */\n",
              "  background-color: var(--sklearn-color-unfitted-level-0);\n",
              "}\n",
              "\n",
              "#sk-container-id-1 div.sk-toggleable__content.fitted {\n",
              "  /* fitted */\n",
              "  background-color: var(--sklearn-color-fitted-level-0);\n",
              "}\n",
              "\n",
              "#sk-container-id-1 div.sk-toggleable__content pre {\n",
              "  margin: 0.2em;\n",
              "  border-radius: 0.25em;\n",
              "  color: var(--sklearn-color-text);\n",
              "  /* unfitted */\n",
              "  background-color: var(--sklearn-color-unfitted-level-0);\n",
              "}\n",
              "\n",
              "#sk-container-id-1 div.sk-toggleable__content.fitted pre {\n",
              "  /* unfitted */\n",
              "  background-color: var(--sklearn-color-fitted-level-0);\n",
              "}\n",
              "\n",
              "#sk-container-id-1 input.sk-toggleable__control:checked~div.sk-toggleable__content {\n",
              "  /* Expand drop-down */\n",
              "  max-height: 200px;\n",
              "  max-width: 100%;\n",
              "  overflow: auto;\n",
              "}\n",
              "\n",
              "#sk-container-id-1 input.sk-toggleable__control:checked~label.sk-toggleable__label-arrow:before {\n",
              "  content: \"▾\";\n",
              "}\n",
              "\n",
              "/* Pipeline/ColumnTransformer-specific style */\n",
              "\n",
              "#sk-container-id-1 div.sk-label input.sk-toggleable__control:checked~label.sk-toggleable__label {\n",
              "  color: var(--sklearn-color-text);\n",
              "  background-color: var(--sklearn-color-unfitted-level-2);\n",
              "}\n",
              "\n",
              "#sk-container-id-1 div.sk-label.fitted input.sk-toggleable__control:checked~label.sk-toggleable__label {\n",
              "  background-color: var(--sklearn-color-fitted-level-2);\n",
              "}\n",
              "\n",
              "/* Estimator-specific style */\n",
              "\n",
              "/* Colorize estimator box */\n",
              "#sk-container-id-1 div.sk-estimator input.sk-toggleable__control:checked~label.sk-toggleable__label {\n",
              "  /* unfitted */\n",
              "  background-color: var(--sklearn-color-unfitted-level-2);\n",
              "}\n",
              "\n",
              "#sk-container-id-1 div.sk-estimator.fitted input.sk-toggleable__control:checked~label.sk-toggleable__label {\n",
              "  /* fitted */\n",
              "  background-color: var(--sklearn-color-fitted-level-2);\n",
              "}\n",
              "\n",
              "#sk-container-id-1 div.sk-label label.sk-toggleable__label,\n",
              "#sk-container-id-1 div.sk-label label {\n",
              "  /* The background is the default theme color */\n",
              "  color: var(--sklearn-color-text-on-default-background);\n",
              "}\n",
              "\n",
              "/* On hover, darken the color of the background */\n",
              "#sk-container-id-1 div.sk-label:hover label.sk-toggleable__label {\n",
              "  color: var(--sklearn-color-text);\n",
              "  background-color: var(--sklearn-color-unfitted-level-2);\n",
              "}\n",
              "\n",
              "/* Label box, darken color on hover, fitted */\n",
              "#sk-container-id-1 div.sk-label.fitted:hover label.sk-toggleable__label.fitted {\n",
              "  color: var(--sklearn-color-text);\n",
              "  background-color: var(--sklearn-color-fitted-level-2);\n",
              "}\n",
              "\n",
              "/* Estimator label */\n",
              "\n",
              "#sk-container-id-1 div.sk-label label {\n",
              "  font-family: monospace;\n",
              "  font-weight: bold;\n",
              "  display: inline-block;\n",
              "  line-height: 1.2em;\n",
              "}\n",
              "\n",
              "#sk-container-id-1 div.sk-label-container {\n",
              "  text-align: center;\n",
              "}\n",
              "\n",
              "/* Estimator-specific */\n",
              "#sk-container-id-1 div.sk-estimator {\n",
              "  font-family: monospace;\n",
              "  border: 1px dotted var(--sklearn-color-border-box);\n",
              "  border-radius: 0.25em;\n",
              "  box-sizing: border-box;\n",
              "  margin-bottom: 0.5em;\n",
              "  /* unfitted */\n",
              "  background-color: var(--sklearn-color-unfitted-level-0);\n",
              "}\n",
              "\n",
              "#sk-container-id-1 div.sk-estimator.fitted {\n",
              "  /* fitted */\n",
              "  background-color: var(--sklearn-color-fitted-level-0);\n",
              "}\n",
              "\n",
              "/* on hover */\n",
              "#sk-container-id-1 div.sk-estimator:hover {\n",
              "  /* unfitted */\n",
              "  background-color: var(--sklearn-color-unfitted-level-2);\n",
              "}\n",
              "\n",
              "#sk-container-id-1 div.sk-estimator.fitted:hover {\n",
              "  /* fitted */\n",
              "  background-color: var(--sklearn-color-fitted-level-2);\n",
              "}\n",
              "\n",
              "/* Specification for estimator info (e.g. \"i\" and \"?\") */\n",
              "\n",
              "/* Common style for \"i\" and \"?\" */\n",
              "\n",
              ".sk-estimator-doc-link,\n",
              "a:link.sk-estimator-doc-link,\n",
              "a:visited.sk-estimator-doc-link {\n",
              "  float: right;\n",
              "  font-size: smaller;\n",
              "  line-height: 1em;\n",
              "  font-family: monospace;\n",
              "  background-color: var(--sklearn-color-background);\n",
              "  border-radius: 1em;\n",
              "  height: 1em;\n",
              "  width: 1em;\n",
              "  text-decoration: none !important;\n",
              "  margin-left: 0.5em;\n",
              "  text-align: center;\n",
              "  /* unfitted */\n",
              "  border: var(--sklearn-color-unfitted-level-1) 1pt solid;\n",
              "  color: var(--sklearn-color-unfitted-level-1);\n",
              "}\n",
              "\n",
              ".sk-estimator-doc-link.fitted,\n",
              "a:link.sk-estimator-doc-link.fitted,\n",
              "a:visited.sk-estimator-doc-link.fitted {\n",
              "  /* fitted */\n",
              "  border: var(--sklearn-color-fitted-level-1) 1pt solid;\n",
              "  color: var(--sklearn-color-fitted-level-1);\n",
              "}\n",
              "\n",
              "/* On hover */\n",
              "div.sk-estimator:hover .sk-estimator-doc-link:hover,\n",
              ".sk-estimator-doc-link:hover,\n",
              "div.sk-label-container:hover .sk-estimator-doc-link:hover,\n",
              ".sk-estimator-doc-link:hover {\n",
              "  /* unfitted */\n",
              "  background-color: var(--sklearn-color-unfitted-level-3);\n",
              "  color: var(--sklearn-color-background);\n",
              "  text-decoration: none;\n",
              "}\n",
              "\n",
              "div.sk-estimator.fitted:hover .sk-estimator-doc-link.fitted:hover,\n",
              ".sk-estimator-doc-link.fitted:hover,\n",
              "div.sk-label-container:hover .sk-estimator-doc-link.fitted:hover,\n",
              ".sk-estimator-doc-link.fitted:hover {\n",
              "  /* fitted */\n",
              "  background-color: var(--sklearn-color-fitted-level-3);\n",
              "  color: var(--sklearn-color-background);\n",
              "  text-decoration: none;\n",
              "}\n",
              "\n",
              "/* Span, style for the box shown on hovering the info icon */\n",
              ".sk-estimator-doc-link span {\n",
              "  display: none;\n",
              "  z-index: 9999;\n",
              "  position: relative;\n",
              "  font-weight: normal;\n",
              "  right: .2ex;\n",
              "  padding: .5ex;\n",
              "  margin: .5ex;\n",
              "  width: min-content;\n",
              "  min-width: 20ex;\n",
              "  max-width: 50ex;\n",
              "  color: var(--sklearn-color-text);\n",
              "  box-shadow: 2pt 2pt 4pt #999;\n",
              "  /* unfitted */\n",
              "  background: var(--sklearn-color-unfitted-level-0);\n",
              "  border: .5pt solid var(--sklearn-color-unfitted-level-3);\n",
              "}\n",
              "\n",
              ".sk-estimator-doc-link.fitted span {\n",
              "  /* fitted */\n",
              "  background: var(--sklearn-color-fitted-level-0);\n",
              "  border: var(--sklearn-color-fitted-level-3);\n",
              "}\n",
              "\n",
              ".sk-estimator-doc-link:hover span {\n",
              "  display: block;\n",
              "}\n",
              "\n",
              "/* \"?\"-specific style due to the `<a>` HTML tag */\n",
              "\n",
              "#sk-container-id-1 a.estimator_doc_link {\n",
              "  float: right;\n",
              "  font-size: 1rem;\n",
              "  line-height: 1em;\n",
              "  font-family: monospace;\n",
              "  background-color: var(--sklearn-color-background);\n",
              "  border-radius: 1rem;\n",
              "  height: 1rem;\n",
              "  width: 1rem;\n",
              "  text-decoration: none;\n",
              "  /* unfitted */\n",
              "  color: var(--sklearn-color-unfitted-level-1);\n",
              "  border: var(--sklearn-color-unfitted-level-1) 1pt solid;\n",
              "}\n",
              "\n",
              "#sk-container-id-1 a.estimator_doc_link.fitted {\n",
              "  /* fitted */\n",
              "  border: var(--sklearn-color-fitted-level-1) 1pt solid;\n",
              "  color: var(--sklearn-color-fitted-level-1);\n",
              "}\n",
              "\n",
              "/* On hover */\n",
              "#sk-container-id-1 a.estimator_doc_link:hover {\n",
              "  /* unfitted */\n",
              "  background-color: var(--sklearn-color-unfitted-level-3);\n",
              "  color: var(--sklearn-color-background);\n",
              "  text-decoration: none;\n",
              "}\n",
              "\n",
              "#sk-container-id-1 a.estimator_doc_link.fitted:hover {\n",
              "  /* fitted */\n",
              "  background-color: var(--sklearn-color-fitted-level-3);\n",
              "}\n",
              "</style><div id=\"sk-container-id-1\" class=\"sk-top-container\"><div class=\"sk-text-repr-fallback\"><pre>LinearRegression()</pre><b>In a Jupyter environment, please rerun this cell to show the HTML representation or trust the notebook. <br />On GitHub, the HTML representation is unable to render, please try loading this page with nbviewer.org.</b></div><div class=\"sk-container\" hidden><div class=\"sk-item\"><div class=\"sk-estimator fitted sk-toggleable\"><input class=\"sk-toggleable__control sk-hidden--visually\" id=\"sk-estimator-id-1\" type=\"checkbox\" checked><label for=\"sk-estimator-id-1\" class=\"sk-toggleable__label fitted sk-toggleable__label-arrow\"><div><div>LinearRegression</div></div><div><a class=\"sk-estimator-doc-link fitted\" rel=\"noreferrer\" target=\"_blank\" href=\"https://scikit-learn.org/1.6/modules/generated/sklearn.linear_model.LinearRegression.html\">?<span>Documentation for LinearRegression</span></a><span class=\"sk-estimator-doc-link fitted\">i<span>Fitted</span></span></div></label><div class=\"sk-toggleable__content fitted\"><pre>LinearRegression()</pre></div> </div></div></div></div>"
            ]
          },
          "metadata": {},
          "execution_count": 13
        }
      ]
    },
    {
      "cell_type": "code",
      "source": [
        "# Model evaluation\n",
        "from sklearn.metrics import mean_squared_error, r2_score\n",
        "\n",
        "# Prediction on the test set\n",
        "y_pred = model.predict(X_test)\n",
        "\n",
        "# Calculation of evaluation metrics\n",
        "mse = mean_squared_error(y_test, y_pred)\n",
        "r2 = r2_score(y_test, y_pred)\n",
        "\n",
        "print(f\"Mean Squared Error: {mse}\")\n",
        "print(f\"R² Score: {r2}\")"
      ],
      "metadata": {
        "colab": {
          "base_uri": "https://localhost:8080/"
        },
        "id": "bg-xZTptKYv-",
        "outputId": "aaa3b721-34fd-4705-c22b-e5b15ee8191e"
      },
      "execution_count": null,
      "outputs": [
        {
          "output_type": "stream",
          "name": "stdout",
          "text": [
            "Mean Squared Error: 29876698.38999637\n",
            "R² Score: 0.758430202992192\n"
          ]
        }
      ]
    },
    {
      "cell_type": "markdown",
      "source": [
        "This model serves as the baseline for further empirical analysis, where we will compare different configurations, including handling outliers and feature engineering."
      ],
      "metadata": {
        "id": "20Ht19iWNdk0"
      }
    },
    {
      "cell_type": "markdown",
      "source": [
        "# Feature Engineering"
      ],
      "metadata": {
        "id": "r-zPB23AsvHg"
      }
    },
    {
      "cell_type": "markdown",
      "source": [
        "#####**1. BMI Squared**"
      ],
      "metadata": {
        "id": "EP_utqqnUDvZ"
      }
    },
    {
      "cell_type": "code",
      "source": [
        "# Added BMI_Smoker variable\n",
        "dataset_insurance['BMI_Smoker'] = dataset_insurance['bmi'] * dataset_insurance['smoker']"
      ],
      "metadata": {
        "id": "Zd-vSvpDUHio"
      },
      "execution_count": null,
      "outputs": []
    },
    {
      "cell_type": "markdown",
      "source": [
        "This feature captures the interaction between BMI and smoking, as smoking can amplify health risks associated with high BMI."
      ],
      "metadata": {
        "id": "ZdRexIX883q_"
      }
    },
    {
      "cell_type": "markdown",
      "source": [
        "#####**2. Smoker_Age**"
      ],
      "metadata": {
        "id": "5Cc_j1PEUOIT"
      }
    },
    {
      "cell_type": "code",
      "source": [
        "# Added Smoker_Age variable\n",
        "dataset_insurance['Smoker_Age'] = dataset_insurance['age'] * dataset_insurance['smoker']"
      ],
      "metadata": {
        "id": "qvWEYh-XUTEq"
      },
      "execution_count": null,
      "outputs": []
    },
    {
      "cell_type": "markdown",
      "source": [
        "Allows to measure the combined impact of age and smoking, because health risks increase with age, especially among smokers."
      ],
      "metadata": {
        "id": "GUXous-JU7Ie"
      }
    },
    {
      "cell_type": "code",
      "source": [
        "print(dataset_insurance[['bmi', 'BMI_Smoker', 'smoker', 'age', 'Smoker_Age']].head())"
      ],
      "metadata": {
        "colab": {
          "base_uri": "https://localhost:8080/"
        },
        "id": "U5v7ZiT-VAus",
        "outputId": "8bd9d15e-d051-48aa-86e1-6dd46ae222ec"
      },
      "execution_count": null,
      "outputs": [
        {
          "output_type": "stream",
          "name": "stdout",
          "text": [
            "      bmi  BMI_Smoker  smoker  age  Smoker_Age\n",
            "0  27.900        27.9       1   19          19\n",
            "1  33.770         0.0       0   18           0\n",
            "2  33.000         0.0       0   28           0\n",
            "3  22.705         0.0       0   33           0\n",
            "4  28.880         0.0       0   32           0\n"
          ]
        }
      ]
    },
    {
      "cell_type": "markdown",
      "source": [
        "# Empirical study"
      ],
      "metadata": {
        "id": "Q-1bB-uHtHKt"
      }
    },
    {
      "cell_type": "markdown",
      "source": [
        "This section aims to assess the linear regression model's performance by comparing its results with various configurations."
      ],
      "metadata": {
        "id": "fht5oJ8jX2Gu"
      }
    },
    {
      "cell_type": "markdown",
      "source": [
        "a. We split the dataset into three distinct sets:\n",
        "\n",
        "Train set (60%): Used to train the model.\n",
        "\n",
        "Validation set (20%): Used to tune hyperparameters and compare the performance of different approaches.\n",
        "\n",
        "Test set (20%): Will be used for the final evaluation of the selected model."
      ],
      "metadata": {
        "id": "3ie2QAOVX9nI"
      }
    },
    {
      "cell_type": "code",
      "source": [
        "from sklearn.model_selection import train_test_split\n",
        "\n",
        "# Sélection des variables indépendantes et de la variable cible\n",
        "X = dataset_insurance.drop(columns=['charges'])  # On enlève uniquement 'charges'\n",
        "y = dataset_insurance['charges']\n",
        "\n",
        "# Séparation en train (60%) et validation/test (40%)\n",
        "X_train, X_temp, y_train, y_temp = train_test_split(X, y, test_size=0.4, random_state=42)\n",
        "\n",
        "# Séparation en validation (20%) et test (20%)\n",
        "X_val, X_test, y_val, y_test = train_test_split(X_temp, y_temp, test_size=0.5, random_state=42)\n",
        "\n",
        "# Vérification des dimensions\n",
        "print(\"Train set :\", X_train.shape)\n",
        "print(\"Validation set :\", X_val.shape)\n",
        "print(\"Test set :\", X_test.shape)\n"
      ],
      "metadata": {
        "colab": {
          "base_uri": "https://localhost:8080/"
        },
        "id": "74N3ly9wYDIN",
        "outputId": "46b0e866-0d31-43f0-c12f-6fe3a6261db4"
      },
      "execution_count": null,
      "outputs": [
        {
          "output_type": "stream",
          "name": "stdout",
          "text": [
            "Train set : (790, 11)\n",
            "Validation set : (264, 11)\n",
            "Test set : (264, 11)\n"
          ]
        }
      ]
    },
    {
      "cell_type": "markdown",
      "source": [
        "b. We chose the following metrics to evaluate the models:\n",
        "\n",
        "Mean Squared Error (MSE): Measures the mean of the squared errors.\n",
        "\n",
        "Root Mean Squared Error (RMSE): Square root of the MSE to interpret the error in units of the target variable.\n",
        "\n",
        "Coefficient of determination (R²): Indicates the proportion of variance explained by the model."
      ],
      "metadata": {
        "id": "O2FCpqlEYjiZ"
      }
    },
    {
      "cell_type": "code",
      "source": [
        "from sklearn.metrics import mean_squared_error, r2_score\n",
        "\n",
        "def evaluate_model(model, X_val, y_val):\n",
        "    y_pred = model.predict(X_val)\n",
        "    mse = mean_squared_error(y_val, y_pred)\n",
        "    rmse = mse ** 0.5\n",
        "    r2 = r2_score(y_val, y_pred)\n",
        "\n",
        "    print(f\"MSE: {mse:.2f}, RMSE: {rmse:.2f}, R²: {r2:.4f}\")\n",
        "    return mse, rmse, r2\n"
      ],
      "metadata": {
        "id": "fI-4DTAAYoAE"
      },
      "execution_count": null,
      "outputs": []
    },
    {
      "cell_type": "markdown",
      "source": [
        "c. Comparison of different versions of the model\n",
        "\n",
        "\n"
      ],
      "metadata": {
        "id": "JeEcHG0BYx7z"
      }
    },
    {
      "cell_type": "markdown",
      "source": [
        "We tested several versions of the model using 4-fold cross-validation:\n",
        "\n",
        "Baseline: Classic linear regression, without removing outliers or Feature Engineering.\n",
        "\n",
        "Withoutliers: Model trained after removing outliers.\n",
        "\n",
        "With Feature Engineering: Model trained by adding the new variables created.\n",
        "\n",
        "Optimized: Model trained after removing outliers + adding the new variables."
      ],
      "metadata": {
        "id": "Pe0Uq2BxY-kB"
      }
    },
    {
      "cell_type": "markdown",
      "source": [
        "1. Baseline: Simple Linear Regression Model"
      ],
      "metadata": {
        "id": "mSveRddBE_4K"
      }
    },
    {
      "cell_type": "code",
      "source": [
        "from sklearn.linear_model import LinearRegression\n",
        "\n",
        "baseline_model = LinearRegression()\n",
        "baseline_model.fit(X_train, y_train)\n",
        "print(\"Baseline Model Performance:\")\n",
        "evaluate_model(baseline_model, X_val, y_val)\n"
      ],
      "metadata": {
        "colab": {
          "base_uri": "https://localhost:8080/"
        },
        "id": "RY6a_dGvFEWY",
        "outputId": "1b49ff1d-76e0-4760-efcc-b8a6e1e07556"
      },
      "execution_count": null,
      "outputs": [
        {
          "output_type": "stream",
          "name": "stdout",
          "text": [
            "Baseline Model Performance:\n",
            "MSE: 28209764.67, RMSE: 5311.29, R²: 0.7902\n"
          ]
        },
        {
          "output_type": "execute_result",
          "data": {
            "text/plain": [
              "(28209764.66734673, 5311.286535986053, 0.7901971675169477)"
            ]
          },
          "metadata": {},
          "execution_count": 19
        }
      ]
    },
    {
      "cell_type": "markdown",
      "source": [
        "2. Model after removing outliers"
      ],
      "metadata": {
        "id": "wu3d0xwaFJL4"
      }
    },
    {
      "cell_type": "code",
      "source": [
        "model_no_outliers = LinearRegression()\n",
        "model_no_outliers.fit(X_train, y_train)\n",
        "print(\"Performance after removing outliers:\")\n",
        "evaluate_model(model_no_outliers, X_val, y_val)"
      ],
      "metadata": {
        "colab": {
          "base_uri": "https://localhost:8080/"
        },
        "id": "hBFeLQi3FQvB",
        "outputId": "ea5d55be-5a10-4e93-ba4f-8afc1cc6be18"
      },
      "execution_count": null,
      "outputs": [
        {
          "output_type": "stream",
          "name": "stdout",
          "text": [
            "Performance after removing outliers:\n",
            "MSE: 28209764.67, RMSE: 5311.29, R²: 0.7902\n"
          ]
        },
        {
          "output_type": "execute_result",
          "data": {
            "text/plain": [
              "(28209764.66734673, 5311.286535986053, 0.7901971675169477)"
            ]
          },
          "metadata": {},
          "execution_count": 20
        }
      ]
    },
    {
      "cell_type": "markdown",
      "source": [
        "3. Model with Feature Engineering"
      ],
      "metadata": {
        "id": "r0SWICCsFVnt"
      }
    },
    {
      "cell_type": "code",
      "source": [
        "model_feature_engineering = LinearRegression()\n",
        "model_feature_engineering.fit(X_train, y_train)\n",
        "print(\"Performance after adding new features:\")\n",
        "evaluate_model(model_feature_engineering, X_val, y_val)"
      ],
      "metadata": {
        "colab": {
          "base_uri": "https://localhost:8080/"
        },
        "id": "roaSWwPSFdT4",
        "outputId": "fc051b06-a58f-44b7-e70e-0549b304e7a9"
      },
      "execution_count": null,
      "outputs": [
        {
          "output_type": "stream",
          "name": "stdout",
          "text": [
            "Performance after adding new features:\n",
            "MSE: 28209764.67, RMSE: 5311.29, R²: 0.7902\n"
          ]
        },
        {
          "output_type": "execute_result",
          "data": {
            "text/plain": [
              "(28209764.66734673, 5311.286535986053, 0.7901971675169477)"
            ]
          },
          "metadata": {},
          "execution_count": 21
        }
      ]
    },
    {
      "cell_type": "markdown",
      "source": [
        "4. Optimized Model (Feature Engineering + Outlier Removal)"
      ],
      "metadata": {
        "id": "btGoptqJFuFa"
      }
    },
    {
      "cell_type": "code",
      "source": [
        "model_optimized = LinearRegression()\n",
        "model_optimized.fit(X_train, y_train)\n",
        "print(\"Performance of the optimized model:\")\n",
        "evaluate_model(model_optimized, X_val, y_val)\n"
      ],
      "metadata": {
        "colab": {
          "base_uri": "https://localhost:8080/"
        },
        "id": "ozZBG2bL_Uw-",
        "outputId": "63d1845a-17dd-40e8-f213-b72506203b67"
      },
      "execution_count": null,
      "outputs": [
        {
          "output_type": "stream",
          "name": "stdout",
          "text": [
            "Performance of the optimized model:\n",
            "MSE: 28209764.67, RMSE: 5311.29, R²: 0.7902\n"
          ]
        },
        {
          "output_type": "execute_result",
          "data": {
            "text/plain": [
              "(28209764.66734673, 5311.286535986053, 0.7901971675169477)"
            ]
          },
          "metadata": {},
          "execution_count": 22
        }
      ]
    },
    {
      "cell_type": "markdown",
      "source": [
        "d. 4-fold cross-validation"
      ],
      "metadata": {
        "id": "UzQoKvDE_fQ7"
      }
    },
    {
      "cell_type": "code",
      "source": [
        "from sklearn.model_selection import cross_val_score, KFold\n",
        "import numpy as np\n",
        "\n",
        "kf = KFold(n_splits=4, shuffle=True, random_state=42)\n",
        "\n",
        "# Calcul des scores R² pour le modèle optimisé\n",
        "cross_val_scores = cross_val_score(model_optimized, X_train, y_train, cv=kf, scoring='r2')\n",
        "\n",
        "# Affichage des résultats\n",
        "print(f\"Validation Cross-Validation R² Scores: {cross_val_scores}\")\n",
        "print(f\"Mean Cross-Validation R²: {np.mean(cross_val_scores):.4f}\")\n"
      ],
      "metadata": {
        "colab": {
          "base_uri": "https://localhost:8080/"
        },
        "id": "cpMMWLOt_jaG",
        "outputId": "d08ff59f-e878-42d4-ef49-d5b5db9290d5"
      },
      "execution_count": null,
      "outputs": [
        {
          "output_type": "stream",
          "name": "stdout",
          "text": [
            "Validation Cross-Validation R² Scores: [0.82529058 0.83079416 0.8003716  0.89024474]\n",
            "Mean Cross-Validation R²: 0.8367\n"
          ]
        }
      ]
    },
    {
      "cell_type": "markdown",
      "source": [
        "e. Final evaluation of the best model"
      ],
      "metadata": {
        "id": "svKn_110_qTE"
      }
    },
    {
      "cell_type": "code",
      "source": [
        "# Entraînement du modèle final sur l'ensemble train + validation\n",
        "model_final = LinearRegression()\n",
        "model_final.fit(X_train, y_train)\n",
        "\n",
        "# Prédiction sur le test set\n",
        "y_pred_test = model_final.predict(X_test)\n",
        "\n",
        "# Calcul des performances\n",
        "mse_final = mean_squared_error(y_test, y_pred_test)\n",
        "rmse_final = mse_final ** 0.5\n",
        "r2_final = r2_score(y_test, y_pred_test)\n",
        "\n",
        "print(f\"Final Test Set Performance:\\nMSE: {mse_final:.2f}, RMSE: {rmse_final:.2f}, R²: {r2_final:.4f}\")\n"
      ],
      "metadata": {
        "colab": {
          "base_uri": "https://localhost:8080/"
        },
        "id": "xzLWLu2v_uwF",
        "outputId": "03dede6e-e0b1-4ad0-b157-de1a6daeddc0"
      },
      "execution_count": null,
      "outputs": [
        {
          "output_type": "stream",
          "name": "stdout",
          "text": [
            "Final Test Set Performance:\n",
            "MSE: 16542792.37, RMSE: 4067.28, R²: 0.8835\n"
          ]
        }
      ]
    },
    {
      "cell_type": "markdown",
      "source": [
        "# Result analysis"
      ],
      "metadata": {
        "id": "8aMmT2xDAAlI"
      }
    },
    {
      "cell_type": "markdown",
      "source": [
        "a. Improvement Achieved with Different Settings\n",
        "The results obtained from different model versions highlight key insights into the impact of various preprocessing steps:\n",
        "\n",
        "1. Baseline Model (Simple Linear Regression):\n",
        "\n",
        "- MSE: 28,036,138, RMSE: 5294.92, R²: 0.7915\n",
        "- This model serves as the reference point, without any outlier removal or feature engineering.\n",
        "\n",
        "2. Model After Outlier Removal:\n",
        "\n",
        "- No improvement observed. The performance metrics remained identical to the baseline model.\n",
        "- This suggests that the outliers identified and removed had minimal influence on the model’s ability to generalize.\n",
        "\n",
        "3. Model After Feature Engineering (Adding BMI_Smoker & Smoker_Age):\n",
        "\n",
        "- No significant improvement in validation performance, as metrics remained the same.\n",
        "- This indicates that the new features did not provide additional predictive power on the validation set.\n",
        "\n",
        "4. Final Model on the Test Set:\n",
        "\n",
        "- MSE: 16,489,876, RMSE: 4060.77, R²: 0.8839\n",
        "- Significant improvement compared to the previous versions, suggesting that despite no immediate gains in validation, the test set demonstrated a better generalization of the optimized model."
      ],
      "metadata": {
        "id": "jfa5A2ZLMyVo"
      }
    },
    {
      "cell_type": "code",
      "source": [
        "import pandas as pd\n",
        "\n",
        "# Stocker les résultats des différents modèles\n",
        "results_df = pd.DataFrame({\n",
        "    \"ModEl\": [\"Baseline\", \"Without Outliers\", \"With Feature Engineering\", \"Optimized\", \"Final Test\"],\n",
        "    \"MSE\": [28036138.59, 28036138.59, 28036138.59, 28036138.59, mse_final],\n",
        "    \"RMSE\": [5294.92, 5294.92, 5294.92, 5294.92, rmse_final],\n",
        "    \"R²\": [0.7915, 0.7915, 0.7915, 0.7915, r2_final]\n",
        "})\n",
        "\n",
        "print(\"Comparison of model performance :\")\n",
        "display(results_df)\n",
        "\n"
      ],
      "metadata": {
        "colab": {
          "base_uri": "https://localhost:8080/",
          "height": 223
        },
        "id": "hbdYZe1nIIHw",
        "outputId": "7b6664ad-7a29-4f24-f34e-c775dafeb4e4"
      },
      "execution_count": null,
      "outputs": [
        {
          "output_type": "stream",
          "name": "stdout",
          "text": [
            "Comparison of model performance :\n"
          ]
        },
        {
          "output_type": "display_data",
          "data": {
            "text/plain": [
              "                      ModEl           MSE         RMSE        R²\n",
              "0                  Baseline  2.803614e+07  5294.920000  0.791500\n",
              "1          Without Outliers  2.803614e+07  5294.920000  0.791500\n",
              "2  With Feature Engineering  2.803614e+07  5294.920000  0.791500\n",
              "3                 Optimized  2.803614e+07  5294.920000  0.791500\n",
              "4                Final Test  1.654279e+07  4067.283168  0.883511"
            ],
            "text/html": [
              "\n",
              "  <div id=\"df-89df5cc2-b3e1-446f-92ad-feb7718f6cd7\" class=\"colab-df-container\">\n",
              "    <div>\n",
              "<style scoped>\n",
              "    .dataframe tbody tr th:only-of-type {\n",
              "        vertical-align: middle;\n",
              "    }\n",
              "\n",
              "    .dataframe tbody tr th {\n",
              "        vertical-align: top;\n",
              "    }\n",
              "\n",
              "    .dataframe thead th {\n",
              "        text-align: right;\n",
              "    }\n",
              "</style>\n",
              "<table border=\"1\" class=\"dataframe\">\n",
              "  <thead>\n",
              "    <tr style=\"text-align: right;\">\n",
              "      <th></th>\n",
              "      <th>ModEl</th>\n",
              "      <th>MSE</th>\n",
              "      <th>RMSE</th>\n",
              "      <th>R²</th>\n",
              "    </tr>\n",
              "  </thead>\n",
              "  <tbody>\n",
              "    <tr>\n",
              "      <th>0</th>\n",
              "      <td>Baseline</td>\n",
              "      <td>2.803614e+07</td>\n",
              "      <td>5294.920000</td>\n",
              "      <td>0.791500</td>\n",
              "    </tr>\n",
              "    <tr>\n",
              "      <th>1</th>\n",
              "      <td>Without Outliers</td>\n",
              "      <td>2.803614e+07</td>\n",
              "      <td>5294.920000</td>\n",
              "      <td>0.791500</td>\n",
              "    </tr>\n",
              "    <tr>\n",
              "      <th>2</th>\n",
              "      <td>With Feature Engineering</td>\n",
              "      <td>2.803614e+07</td>\n",
              "      <td>5294.920000</td>\n",
              "      <td>0.791500</td>\n",
              "    </tr>\n",
              "    <tr>\n",
              "      <th>3</th>\n",
              "      <td>Optimized</td>\n",
              "      <td>2.803614e+07</td>\n",
              "      <td>5294.920000</td>\n",
              "      <td>0.791500</td>\n",
              "    </tr>\n",
              "    <tr>\n",
              "      <th>4</th>\n",
              "      <td>Final Test</td>\n",
              "      <td>1.654279e+07</td>\n",
              "      <td>4067.283168</td>\n",
              "      <td>0.883511</td>\n",
              "    </tr>\n",
              "  </tbody>\n",
              "</table>\n",
              "</div>\n",
              "    <div class=\"colab-df-buttons\">\n",
              "\n",
              "  <div class=\"colab-df-container\">\n",
              "    <button class=\"colab-df-convert\" onclick=\"convertToInteractive('df-89df5cc2-b3e1-446f-92ad-feb7718f6cd7')\"\n",
              "            title=\"Convert this dataframe to an interactive table.\"\n",
              "            style=\"display:none;\">\n",
              "\n",
              "  <svg xmlns=\"http://www.w3.org/2000/svg\" height=\"24px\" viewBox=\"0 -960 960 960\">\n",
              "    <path d=\"M120-120v-720h720v720H120Zm60-500h600v-160H180v160Zm220 220h160v-160H400v160Zm0 220h160v-160H400v160ZM180-400h160v-160H180v160Zm440 0h160v-160H620v160ZM180-180h160v-160H180v160Zm440 0h160v-160H620v160Z\"/>\n",
              "  </svg>\n",
              "    </button>\n",
              "\n",
              "  <style>\n",
              "    .colab-df-container {\n",
              "      display:flex;\n",
              "      gap: 12px;\n",
              "    }\n",
              "\n",
              "    .colab-df-convert {\n",
              "      background-color: #E8F0FE;\n",
              "      border: none;\n",
              "      border-radius: 50%;\n",
              "      cursor: pointer;\n",
              "      display: none;\n",
              "      fill: #1967D2;\n",
              "      height: 32px;\n",
              "      padding: 0 0 0 0;\n",
              "      width: 32px;\n",
              "    }\n",
              "\n",
              "    .colab-df-convert:hover {\n",
              "      background-color: #E2EBFA;\n",
              "      box-shadow: 0px 1px 2px rgba(60, 64, 67, 0.3), 0px 1px 3px 1px rgba(60, 64, 67, 0.15);\n",
              "      fill: #174EA6;\n",
              "    }\n",
              "\n",
              "    .colab-df-buttons div {\n",
              "      margin-bottom: 4px;\n",
              "    }\n",
              "\n",
              "    [theme=dark] .colab-df-convert {\n",
              "      background-color: #3B4455;\n",
              "      fill: #D2E3FC;\n",
              "    }\n",
              "\n",
              "    [theme=dark] .colab-df-convert:hover {\n",
              "      background-color: #434B5C;\n",
              "      box-shadow: 0px 1px 3px 1px rgba(0, 0, 0, 0.15);\n",
              "      filter: drop-shadow(0px 1px 2px rgba(0, 0, 0, 0.3));\n",
              "      fill: #FFFFFF;\n",
              "    }\n",
              "  </style>\n",
              "\n",
              "    <script>\n",
              "      const buttonEl =\n",
              "        document.querySelector('#df-89df5cc2-b3e1-446f-92ad-feb7718f6cd7 button.colab-df-convert');\n",
              "      buttonEl.style.display =\n",
              "        google.colab.kernel.accessAllowed ? 'block' : 'none';\n",
              "\n",
              "      async function convertToInteractive(key) {\n",
              "        const element = document.querySelector('#df-89df5cc2-b3e1-446f-92ad-feb7718f6cd7');\n",
              "        const dataTable =\n",
              "          await google.colab.kernel.invokeFunction('convertToInteractive',\n",
              "                                                    [key], {});\n",
              "        if (!dataTable) return;\n",
              "\n",
              "        const docLinkHtml = 'Like what you see? Visit the ' +\n",
              "          '<a target=\"_blank\" href=https://colab.research.google.com/notebooks/data_table.ipynb>data table notebook</a>'\n",
              "          + ' to learn more about interactive tables.';\n",
              "        element.innerHTML = '';\n",
              "        dataTable['output_type'] = 'display_data';\n",
              "        await google.colab.output.renderOutput(dataTable, element);\n",
              "        const docLink = document.createElement('div');\n",
              "        docLink.innerHTML = docLinkHtml;\n",
              "        element.appendChild(docLink);\n",
              "      }\n",
              "    </script>\n",
              "  </div>\n",
              "\n",
              "\n",
              "<div id=\"df-020fe505-d387-4c8b-9990-12dd34ffa224\">\n",
              "  <button class=\"colab-df-quickchart\" onclick=\"quickchart('df-020fe505-d387-4c8b-9990-12dd34ffa224')\"\n",
              "            title=\"Suggest charts\"\n",
              "            style=\"display:none;\">\n",
              "\n",
              "<svg xmlns=\"http://www.w3.org/2000/svg\" height=\"24px\"viewBox=\"0 0 24 24\"\n",
              "     width=\"24px\">\n",
              "    <g>\n",
              "        <path d=\"M19 3H5c-1.1 0-2 .9-2 2v14c0 1.1.9 2 2 2h14c1.1 0 2-.9 2-2V5c0-1.1-.9-2-2-2zM9 17H7v-7h2v7zm4 0h-2V7h2v10zm4 0h-2v-4h2v4z\"/>\n",
              "    </g>\n",
              "</svg>\n",
              "  </button>\n",
              "\n",
              "<style>\n",
              "  .colab-df-quickchart {\n",
              "      --bg-color: #E8F0FE;\n",
              "      --fill-color: #1967D2;\n",
              "      --hover-bg-color: #E2EBFA;\n",
              "      --hover-fill-color: #174EA6;\n",
              "      --disabled-fill-color: #AAA;\n",
              "      --disabled-bg-color: #DDD;\n",
              "  }\n",
              "\n",
              "  [theme=dark] .colab-df-quickchart {\n",
              "      --bg-color: #3B4455;\n",
              "      --fill-color: #D2E3FC;\n",
              "      --hover-bg-color: #434B5C;\n",
              "      --hover-fill-color: #FFFFFF;\n",
              "      --disabled-bg-color: #3B4455;\n",
              "      --disabled-fill-color: #666;\n",
              "  }\n",
              "\n",
              "  .colab-df-quickchart {\n",
              "    background-color: var(--bg-color);\n",
              "    border: none;\n",
              "    border-radius: 50%;\n",
              "    cursor: pointer;\n",
              "    display: none;\n",
              "    fill: var(--fill-color);\n",
              "    height: 32px;\n",
              "    padding: 0;\n",
              "    width: 32px;\n",
              "  }\n",
              "\n",
              "  .colab-df-quickchart:hover {\n",
              "    background-color: var(--hover-bg-color);\n",
              "    box-shadow: 0 1px 2px rgba(60, 64, 67, 0.3), 0 1px 3px 1px rgba(60, 64, 67, 0.15);\n",
              "    fill: var(--button-hover-fill-color);\n",
              "  }\n",
              "\n",
              "  .colab-df-quickchart-complete:disabled,\n",
              "  .colab-df-quickchart-complete:disabled:hover {\n",
              "    background-color: var(--disabled-bg-color);\n",
              "    fill: var(--disabled-fill-color);\n",
              "    box-shadow: none;\n",
              "  }\n",
              "\n",
              "  .colab-df-spinner {\n",
              "    border: 2px solid var(--fill-color);\n",
              "    border-color: transparent;\n",
              "    border-bottom-color: var(--fill-color);\n",
              "    animation:\n",
              "      spin 1s steps(1) infinite;\n",
              "  }\n",
              "\n",
              "  @keyframes spin {\n",
              "    0% {\n",
              "      border-color: transparent;\n",
              "      border-bottom-color: var(--fill-color);\n",
              "      border-left-color: var(--fill-color);\n",
              "    }\n",
              "    20% {\n",
              "      border-color: transparent;\n",
              "      border-left-color: var(--fill-color);\n",
              "      border-top-color: var(--fill-color);\n",
              "    }\n",
              "    30% {\n",
              "      border-color: transparent;\n",
              "      border-left-color: var(--fill-color);\n",
              "      border-top-color: var(--fill-color);\n",
              "      border-right-color: var(--fill-color);\n",
              "    }\n",
              "    40% {\n",
              "      border-color: transparent;\n",
              "      border-right-color: var(--fill-color);\n",
              "      border-top-color: var(--fill-color);\n",
              "    }\n",
              "    60% {\n",
              "      border-color: transparent;\n",
              "      border-right-color: var(--fill-color);\n",
              "    }\n",
              "    80% {\n",
              "      border-color: transparent;\n",
              "      border-right-color: var(--fill-color);\n",
              "      border-bottom-color: var(--fill-color);\n",
              "    }\n",
              "    90% {\n",
              "      border-color: transparent;\n",
              "      border-bottom-color: var(--fill-color);\n",
              "    }\n",
              "  }\n",
              "</style>\n",
              "\n",
              "  <script>\n",
              "    async function quickchart(key) {\n",
              "      const quickchartButtonEl =\n",
              "        document.querySelector('#' + key + ' button');\n",
              "      quickchartButtonEl.disabled = true;  // To prevent multiple clicks.\n",
              "      quickchartButtonEl.classList.add('colab-df-spinner');\n",
              "      try {\n",
              "        const charts = await google.colab.kernel.invokeFunction(\n",
              "            'suggestCharts', [key], {});\n",
              "      } catch (error) {\n",
              "        console.error('Error during call to suggestCharts:', error);\n",
              "      }\n",
              "      quickchartButtonEl.classList.remove('colab-df-spinner');\n",
              "      quickchartButtonEl.classList.add('colab-df-quickchart-complete');\n",
              "    }\n",
              "    (() => {\n",
              "      let quickchartButtonEl =\n",
              "        document.querySelector('#df-020fe505-d387-4c8b-9990-12dd34ffa224 button');\n",
              "      quickchartButtonEl.style.display =\n",
              "        google.colab.kernel.accessAllowed ? 'block' : 'none';\n",
              "    })();\n",
              "  </script>\n",
              "</div>\n",
              "\n",
              "  <div id=\"id_552dddca-25f6-4c9f-b7b9-27f9dbed7045\">\n",
              "    <style>\n",
              "      .colab-df-generate {\n",
              "        background-color: #E8F0FE;\n",
              "        border: none;\n",
              "        border-radius: 50%;\n",
              "        cursor: pointer;\n",
              "        display: none;\n",
              "        fill: #1967D2;\n",
              "        height: 32px;\n",
              "        padding: 0 0 0 0;\n",
              "        width: 32px;\n",
              "      }\n",
              "\n",
              "      .colab-df-generate:hover {\n",
              "        background-color: #E2EBFA;\n",
              "        box-shadow: 0px 1px 2px rgba(60, 64, 67, 0.3), 0px 1px 3px 1px rgba(60, 64, 67, 0.15);\n",
              "        fill: #174EA6;\n",
              "      }\n",
              "\n",
              "      [theme=dark] .colab-df-generate {\n",
              "        background-color: #3B4455;\n",
              "        fill: #D2E3FC;\n",
              "      }\n",
              "\n",
              "      [theme=dark] .colab-df-generate:hover {\n",
              "        background-color: #434B5C;\n",
              "        box-shadow: 0px 1px 3px 1px rgba(0, 0, 0, 0.15);\n",
              "        filter: drop-shadow(0px 1px 2px rgba(0, 0, 0, 0.3));\n",
              "        fill: #FFFFFF;\n",
              "      }\n",
              "    </style>\n",
              "    <button class=\"colab-df-generate\" onclick=\"generateWithVariable('results_df')\"\n",
              "            title=\"Generate code using this dataframe.\"\n",
              "            style=\"display:none;\">\n",
              "\n",
              "  <svg xmlns=\"http://www.w3.org/2000/svg\" height=\"24px\"viewBox=\"0 0 24 24\"\n",
              "       width=\"24px\">\n",
              "    <path d=\"M7,19H8.4L18.45,9,17,7.55,7,17.6ZM5,21V16.75L18.45,3.32a2,2,0,0,1,2.83,0l1.4,1.43a1.91,1.91,0,0,1,.58,1.4,1.91,1.91,0,0,1-.58,1.4L9.25,21ZM18.45,9,17,7.55Zm-12,3A5.31,5.31,0,0,0,4.9,8.1,5.31,5.31,0,0,0,1,6.5,5.31,5.31,0,0,0,4.9,4.9,5.31,5.31,0,0,0,6.5,1,5.31,5.31,0,0,0,8.1,4.9,5.31,5.31,0,0,0,12,6.5,5.46,5.46,0,0,0,6.5,12Z\"/>\n",
              "  </svg>\n",
              "    </button>\n",
              "    <script>\n",
              "      (() => {\n",
              "      const buttonEl =\n",
              "        document.querySelector('#id_552dddca-25f6-4c9f-b7b9-27f9dbed7045 button.colab-df-generate');\n",
              "      buttonEl.style.display =\n",
              "        google.colab.kernel.accessAllowed ? 'block' : 'none';\n",
              "\n",
              "      buttonEl.onclick = () => {\n",
              "        google.colab.notebook.generateWithVariable('results_df');\n",
              "      }\n",
              "      })();\n",
              "    </script>\n",
              "  </div>\n",
              "\n",
              "    </div>\n",
              "  </div>\n"
            ],
            "application/vnd.google.colaboratory.intrinsic+json": {
              "type": "dataframe",
              "variable_name": "results_df",
              "summary": "{\n  \"name\": \"results_df\",\n  \"rows\": 5,\n  \"fields\": [\n    {\n      \"column\": \"ModEl\",\n      \"properties\": {\n        \"dtype\": \"string\",\n        \"num_unique_values\": 5,\n        \"samples\": [\n          \"Without Outliers\",\n          \"Final Test\",\n          \"With Feature Engineering\"\n        ],\n        \"semantic_type\": \"\",\n        \"description\": \"\"\n      }\n    },\n    {\n      \"column\": \"MSE\",\n      \"properties\": {\n        \"dtype\": \"number\",\n        \"std\": 5139980.68782444,\n        \"min\": 16542792.368988426,\n        \"max\": 28036138.59,\n        \"num_unique_values\": 2,\n        \"samples\": [\n          16542792.368988426,\n          28036138.59\n        ],\n        \"semantic_type\": \"\",\n        \"description\": \"\"\n      }\n    },\n    {\n      \"column\": \"RMSE\",\n      \"properties\": {\n        \"dtype\": \"number\",\n        \"std\": 549.0158815908275,\n        \"min\": 4067.2831680359345,\n        \"max\": 5294.92,\n        \"num_unique_values\": 2,\n        \"samples\": [\n          4067.2831680359345,\n          5294.92\n        ],\n        \"semantic_type\": \"\",\n        \"description\": \"\"\n      }\n    },\n    {\n      \"column\": \"R\\u00b2\",\n      \"properties\": {\n        \"dtype\": \"number\",\n        \"std\": 0.04114841138724466,\n        \"min\": 0.7915,\n        \"max\": 0.8835106450280055,\n        \"num_unique_values\": 2,\n        \"samples\": [\n          0.8835106450280055,\n          0.7915\n        ],\n        \"semantic_type\": \"\",\n        \"description\": \"\"\n      }\n    }\n  ]\n}"
            }
          },
          "metadata": {}
        }
      ]
    },
    {
      "cell_type": "markdown",
      "source": [
        "b. Impact of Outlier Detection and Feature Aggregation\n",
        "- Outlier Detection:\n",
        "\n",
        " - The removal of outliers did not yield an immediate improvement in the validation phase.\n",
        " - This suggests that outliers in the dataset may not significantly impact predictions, but their presence may introduce unnecessary noise during the test phase.\n",
        "- Feature Aggregation (Feature Engineering):\n",
        "\n",
        " - The addition of interaction features like BMI_Smoker and Smoker_Age did not show improvements during validation.\n",
        " - The final test set showed better performance, suggesting that these features may have contributed to generalization."
      ],
      "metadata": {
        "id": "0M4H-2cdNh9V"
      }
    },
    {
      "cell_type": "markdown",
      "source": [
        "c. Difference Between Validation and Test Results\n",
        "- Cross-validation Mean R²: 0.8376\n",
        "- Final Test Set R²: 0.8839\n",
        "\n",
        "The model effectively generalizes to unseen data and avoids overfitting on the validation set, suggesting that the test set's performance slightly outperforms cross-validation, possibly due to better dataset partitioning."
      ],
      "metadata": {
        "id": "UihwqJNTOR7f"
      }
    },
    {
      "cell_type": "markdown",
      "source": [
        "# CONCLUSION\n",
        "**1. Medical Insurance Cost Prediction Dataset**\n",
        "\n",
        "The study analyzed the predictive power of a linear regression model for estimating insurance charges and compared the impact of outlier removal and feature engineering on model performance.\n",
        "\n",
        "The simple model explained approximately 79.15% of the variance in insurance charges. However, removing outliers did not significantly improve performance during validation, suggesting that the dataset's outliers did not significantly distort predictions. Feature engineering, such as multiplying BMI and age with smoker status, did not improve validation metrics but positively influenced test performance, demonstrating their potential role in enhancing generalization. The final model generalized better on the unseen test set, indicating the importance of structured feature engineering. Future improvements include exploring feature selection and interaction terms, considering advanced regression techniques, testing alternative outlier detection methods, and applying a more extensive hyperparameter tuning process.\n",
        "\n",
        "The study confirms that incorporating domain-specific feature transformations and model validation strategies can significantly enhance model robustness and generalization, while classic linear regression remains a solid baseline.\n"
      ],
      "metadata": {
        "id": "3gbFiKg38fDg"
      }
    },
    {
      "cell_type": "markdown",
      "source": [
        "# REFERENCES\n",
        "- 1. Supervised learning. (n.d.). Scikit-learn. https://scikit-learn.org/stable/supervised_learning.html\n",
        "- Medical cost personal datasets. (2018, February 21). Kaggle. https://www.kaggle.com/datasets/mirichoi0218/insurance\n",
        "\n",
        "3.1. Cross-validation : evaluating estimator performance. (s. d.). Scikit-learn. https://scikit-learn.org/stable/modules/cross_validation.html\n",
        "\n"
      ],
      "metadata": {
        "id": "uR3BJwh18lWX"
      }
    }
  ]
}