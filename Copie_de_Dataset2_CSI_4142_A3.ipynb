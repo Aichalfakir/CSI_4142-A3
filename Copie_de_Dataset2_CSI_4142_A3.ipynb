{
  "nbformat": 4,
  "nbformat_minor": 0,
  "metadata": {
    "colab": {
      "provenance": [],
      "include_colab_link": true
    },
    "kernelspec": {
      "name": "python3",
      "display_name": "Python 3"
    },
    "language_info": {
      "name": "python"
    }
  },
  "cells": [
    {
      "cell_type": "markdown",
      "metadata": {
        "id": "view-in-github",
        "colab_type": "text"
      },
      "source": [
        "<a href=\"https://colab.research.google.com/github/Aichalfakir/CSI_4142-A3/blob/main/Copie_de_Dataset2_CSI_4142_A3.ipynb\" target=\"_parent\"><img src=\"https://colab.research.google.com/assets/colab-badge.svg\" alt=\"Open In Colab\"/></a>"
      ]
    },
    {
      "cell_type": "markdown",
      "source": [
        "# Predictive analysis Regression and Classification*"
      ],
      "metadata": {
        "id": "75cqjaeSBt_2"
      }
    },
    {
      "cell_type": "markdown",
      "source": [
        "# INTRODUCTION"
      ],
      "metadata": {
        "id": "iDmjhNcuCQhp"
      }
    },
    {
      "cell_type": "markdown",
      "source": [
        "In the evolving field of data science, understanding the job market and the characteristics of job seekers is essential for both recruiters and candidates. This analysis focuses on a dataset containing information on individuals applying for data science roles, capturing various factors such as demographics, education, work experience, and training hours. The key aspect of interest is whether candidates are actively looking for new job opportunities.\n",
        "\n",
        "*   **GOAL OF THE ANALYSIS**\n",
        "\n",
        "The primary objective of this analysis is to uncover patterns and insights related to job-seeking behavior among data science professionals. Specifically, we aim to:\n",
        "\n",
        "1. Identify key factors influencing job-seeking tendencies.\n",
        "2. Analyze the impact of education, experience, and training on job transition.\n",
        "3. Provide actionable insights for recruiters and job seekers to better navigate the job market.\n",
        "\n",
        "*   **AUDIENCE**\n",
        "\n",
        "This analysis is valuable for multiple stakeholders, including:\n",
        "\n",
        "1. Recruiters and Hiring Managers: Understanding the characteristics of job-seeking candidates can help tailor recruitment strategies.\n",
        "2. Job Seekers and Data Science Professionals: Insights into market trends can help candidates position themselves better for job opportunities.\n",
        "3. Academia and Career Advisors: Identifying the role of education and training in career growth can help institutions design relevant programs."
      ],
      "metadata": {
        "id": "dadHDZc6CafE"
      }
    },
    {
      "cell_type": "markdown",
      "source": [
        "# DATASETS IMPORTS AND LOADING"
      ],
      "metadata": {
        "id": "gxRTR9DSCrKL"
      }
    },
    {
      "cell_type": "code",
      "source": [
        "import pandas as pd\n",
        "import numpy as np\n",
        "import matplotlib.pyplot as plt\n",
        "import seaborn as sns\n",
        "from sklearn.model_selection import train_test_split, cross_val_score, GridSearchCV\n",
        "from sklearn.tree import DecisionTreeClassifier\n",
        "from sklearn.metrics import accuracy_score, precision_score, recall_score, f1_score, classification_report\n",
        "from sklearn.impute import SimpleImputer\n",
        "from sklearn.preprocessing import LabelEncoder\n",
        "from scipy import stats\n"
      ],
      "metadata": {
        "id": "oLb-IpRBLlsg"
      },
      "execution_count": null,
      "outputs": []
    },
    {
      "cell_type": "code",
      "source": [
        "url = \"https://raw.githubusercontent.com/exaucee2/CSI4142_A3/master/data_science_job.csv\"\n",
        "data_science = pd.read_csv(url)\n",
        "print(data_science.shape)\n",
        "print(data_science.info())\n",
        "print(data_science.head())\n",
        "print(data_science.describe())"
      ],
      "metadata": {
        "colab": {
          "base_uri": "https://localhost:8080/"
        },
        "collapsed": true,
        "id": "lcuAXplhLo-Y",
        "outputId": "199e9c4e-53fa-4ad6-f3c7-22ba791c3679"
      },
      "execution_count": null,
      "outputs": [
        {
          "output_type": "stream",
          "name": "stdout",
          "text": [
            "(19158, 13)\n",
            "<class 'pandas.core.frame.DataFrame'>\n",
            "RangeIndex: 19158 entries, 0 to 19157\n",
            "Data columns (total 13 columns):\n",
            " #   Column                  Non-Null Count  Dtype  \n",
            "---  ------                  --------------  -----  \n",
            " 0   enrollee_id             19158 non-null  int64  \n",
            " 1   city                    19158 non-null  object \n",
            " 2   city_development_index  18679 non-null  float64\n",
            " 3   gender                  14650 non-null  object \n",
            " 4   relevent_experience     19158 non-null  object \n",
            " 5   enrolled_university     18772 non-null  object \n",
            " 6   education_level         18698 non-null  object \n",
            " 7   major_discipline        16345 non-null  object \n",
            " 8   experience              19093 non-null  float64\n",
            " 9   company_size            13220 non-null  object \n",
            " 10  company_type            13018 non-null  object \n",
            " 11  training_hours          18392 non-null  float64\n",
            " 12  target                  19158 non-null  float64\n",
            "dtypes: float64(4), int64(1), object(8)\n",
            "memory usage: 1.9+ MB\n",
            "None\n",
            "   enrollee_id      city  city_development_index gender  \\\n",
            "0         8949  city_103                   0.920   Male   \n",
            "1        29725   city_40                   0.776   Male   \n",
            "2        11561   city_21                   0.624    NaN   \n",
            "3        33241  city_115                   0.789    NaN   \n",
            "4          666  city_162                   0.767   Male   \n",
            "\n",
            "       relevent_experience enrolled_university education_level  \\\n",
            "0  Has relevent experience       no_enrollment        Graduate   \n",
            "1   No relevent experience       no_enrollment        Graduate   \n",
            "2   No relevent experience    Full time course        Graduate   \n",
            "3   No relevent experience                 NaN        Graduate   \n",
            "4  Has relevent experience       no_enrollment         Masters   \n",
            "\n",
            "  major_discipline  experience company_size    company_type  training_hours  \\\n",
            "0             STEM        20.0          NaN             NaN            36.0   \n",
            "1             STEM        15.0        50-99         Pvt Ltd            47.0   \n",
            "2             STEM         5.0          NaN             NaN            83.0   \n",
            "3  Business Degree         0.0          NaN         Pvt Ltd            52.0   \n",
            "4             STEM        20.0        50-99  Funded Startup             8.0   \n",
            "\n",
            "   target  \n",
            "0     1.0  \n",
            "1     0.0  \n",
            "2     0.0  \n",
            "3     1.0  \n",
            "4     0.0  \n",
            "        enrollee_id  city_development_index    experience  training_hours  \\\n",
            "count  19158.000000            18679.000000  19093.000000    18392.000000   \n",
            "mean   16875.358179                0.828951      9.928036       65.185787   \n",
            "std     9616.292592                0.123334      6.505268       59.885626   \n",
            "min        1.000000                0.448000      0.000000        1.000000   \n",
            "25%     8554.250000                0.740000      4.000000       23.000000   \n",
            "50%    16982.500000                0.903000      9.000000       47.000000   \n",
            "75%    25169.750000                0.920000     16.000000       88.000000   \n",
            "max    33380.000000                0.949000     20.000000      336.000000   \n",
            "\n",
            "             target  \n",
            "count  19158.000000  \n",
            "mean       0.249348  \n",
            "std        0.432647  \n",
            "min        0.000000  \n",
            "25%        0.000000  \n",
            "50%        0.000000  \n",
            "75%        0.000000  \n",
            "max        1.000000  \n"
          ]
        }
      ]
    },
    {
      "cell_type": "markdown",
      "source": [
        "# DATASETS DESCRIPTIONS"
      ],
      "metadata": {
        "id": "lzpBvKmwDO6W"
      }
    },
    {
      "cell_type": "markdown",
      "source": [
        "DATASET 2:\n",
        "\n",
        "\n",
        "*   **NAME**: data_science_job\n",
        "*   **AUTHOR**:Vennela Varshini Anasoor\n",
        "*   **PURPOSE**: This dataset is designed to analyze the characteristics of job seekers in the data science field. It helps identify patterns in job-seeking behavior based on demographics, education, work experience, and training. The goal is to provide insights for recruiters, job seekers, and career advisors.\n",
        "*   **SHAPE:** the dataset contains 1958 rows and 13 columns\n",
        "*   **LIST OF FEATURES**:\n",
        "\n",
        "\n",
        "| Column Name      |      Description        |         Data Type    |\n",
        "|-------------------------|---------------------------|--------------|\n",
        "|enrollee_id| Unique identifier for each candidate  | Numerical (Discrete)\n",
        "|city | City where the candidate is located| Categorical (Nominal)\n",
        "|city_development_index|Index indicating the development level of the city (higher values suggest more developed areas)|Numerical (Continuous)\n",
        "|gender | Gender of the candidate (if provided)|Categorical (Nominal)\n",
        "|relevent_experience|Whether the candidate has relevant experience in data science|Categorical (Nominal)\n",
        "|enrolled_university |Type of university enrollment (Full-time, Part-time, or No enrollment)|Categorical (Nominal)\n",
        "|education_level|Highest education level attained|Categorical (Nominal)\n",
        "|major_discipline | Field of study|Categorical (Nominal)\n",
        "|experience| Total years of professional experience|Numerical (Discrete)\n",
        "|company_size|Size of the company where the candidate is employed (if applicable)|Categorical (Ordinal)\n",
        "|company_type |Type of company where the candidate is employed (if applicable)|Categorical (Nominal)\n",
        "|training_hours |Number of hours spent on training|Numerical (Continuous)\n",
        "|target |Whether the candidate is looking for a new job (1 = Yes, 0 = No)|Categorical (Binary)\n",
        "\n",
        "\n",
        "\n"
      ],
      "metadata": {
        "id": "u7Cerfu4Dg9v"
      }
    },
    {
      "cell_type": "markdown",
      "source": [
        "# CLASSIFICATION EMPIRICAL STUDY WITH DECISION TREES"
      ],
      "metadata": {
        "id": "HVk5CmCtEsBH"
      }
    },
    {
      "cell_type": "markdown",
      "source": [
        "# DATA CLEANING"
      ],
      "metadata": {
        "id": "B3-xx3lQFleM"
      }
    },
    {
      "cell_type": "markdown",
      "source": [
        "# MISSING VALUES"
      ],
      "metadata": {
        "id": "kjY0a_WBd7Ee"
      }
    },
    {
      "cell_type": "code",
      "source": [
        "print(\"Missing Values in Each Column:\")\n",
        "print(data_science.isnull().sum())\n",
        "\n",
        "num_cols = data_science.select_dtypes(include=['float64', 'int64']).columns\n",
        "cat_cols = data_science.select_dtypes(include=['object']).columns\n",
        "\n",
        "# Impute numerical columns with mean\n",
        "imputer_num = SimpleImputer(strategy='mean')\n",
        "data_science[num_cols] = imputer_num.fit_transform(data_science[num_cols])\n",
        "imputer_cat = SimpleImputer(strategy='most_frequent')\n",
        "data_science[cat_cols] = imputer_cat.fit_transform(data_science[cat_cols])\n",
        "print()\n",
        "# Verify missing values are handled\n",
        "print(\"Missing Values After Imputation:\")\n",
        "print(data_science.isnull().sum())"
      ],
      "metadata": {
        "colab": {
          "base_uri": "https://localhost:8080/"
        },
        "id": "kqB_fWnpeDjH",
        "outputId": "f80b0837-d543-4e4b-a680-77b63780df12"
      },
      "execution_count": null,
      "outputs": [
        {
          "output_type": "stream",
          "name": "stdout",
          "text": [
            "Missing Values in Each Column:\n",
            "enrollee_id                  0\n",
            "city                         0\n",
            "city_development_index     479\n",
            "gender                    4508\n",
            "relevent_experience          0\n",
            "enrolled_university        386\n",
            "education_level            460\n",
            "major_discipline          2813\n",
            "experience                  65\n",
            "company_size              5938\n",
            "company_type              6140\n",
            "training_hours             766\n",
            "target                       0\n",
            "dtype: int64\n",
            "\n",
            "Missing Values After Imputation:\n",
            "enrollee_id               0\n",
            "city                      0\n",
            "city_development_index    0\n",
            "gender                    0\n",
            "relevent_experience       0\n",
            "enrolled_university       0\n",
            "education_level           0\n",
            "major_discipline          0\n",
            "experience                0\n",
            "company_size              0\n",
            "company_type              0\n",
            "training_hours            0\n",
            "target                    0\n",
            "dtype: int64\n"
          ]
        }
      ]
    },
    {
      "cell_type": "markdown",
      "source": [
        "# NUMERICAL FEATURE ENCODING"
      ],
      "metadata": {
        "id": "UKhEd0gOgDhC"
      }
    },
    {
      "cell_type": "markdown",
      "source": [
        "# ENCODE CATEGORICAL VARIABLES"
      ],
      "metadata": {
        "id": "0G5lk81cgQm6"
      }
    },
    {
      "cell_type": "code",
      "source": [
        "def feature_engineering(df):\n",
        "    # Ensure categorical variables are encoded\n",
        "    cat_cols = df.select_dtypes(include=['object']).columns\n",
        "    label_encoders = {}\n",
        "\n",
        "    for col in cat_cols:\n",
        "        le = LabelEncoder()\n",
        "        df.loc[:, col] = le.fit_transform(df[col])\n",
        "        label_encoders[col] = le\n",
        "\n",
        "    return df, label_encoders\n",
        "data_science, encoders = feature_engineering(data_science)\n",
        "\n",
        "# Print sample after encoding\n",
        "print(\"Encoded Categorical Variables:\")\n",
        "print(data_science.head())"
      ],
      "metadata": {
        "colab": {
          "base_uri": "https://localhost:8080/"
        },
        "id": "Biwgo7Ynhiuh",
        "outputId": "6b56bb33-528c-4d4a-f42c-a899e541ce6b"
      },
      "execution_count": null,
      "outputs": [
        {
          "output_type": "stream",
          "name": "stdout",
          "text": [
            "Encoded Categorical Variables:\n",
            "   enrollee_id city  city_development_index gender relevent_experience  \\\n",
            "0       8949.0    5                   0.920      1                   0   \n",
            "1      29725.0   77                   0.776      1                   1   \n",
            "2      11561.0   64                   0.624      1                   1   \n",
            "3      33241.0   14                   0.789      1                   1   \n",
            "4        666.0   50                   0.767      1                   0   \n",
            "\n",
            "  enrolled_university education_level major_discipline  experience  \\\n",
            "0                   2               0                5        20.0   \n",
            "1                   2               0                5        15.0   \n",
            "2                   0               0                5         5.0   \n",
            "3                   2               0                1         0.0   \n",
            "4                   2               2                5        20.0   \n",
            "\n",
            "  company_size company_type  training_hours  target  \n",
            "0            4            5            36.0     1.0  \n",
            "1            4            5            47.0     0.0  \n",
            "2            4            5            83.0     0.0  \n",
            "3            4            5            52.0     1.0  \n",
            "4            4            1             8.0     0.0  \n"
          ]
        }
      ]
    },
    {
      "cell_type": "markdown",
      "source": [
        "# BINNING NUMERICAL FEATURES"
      ],
      "metadata": {
        "id": "lVvs3QAlhv7i"
      }
    },
    {
      "cell_type": "code",
      "source": [
        "\n",
        "experience_bins = [0, 2, 5, 10, 20]\n",
        "experience_labels = [\"Entry-Level\", \"Intermediate\", \"Experienced\", \"Senior\"]\n",
        "data_science['experience_binned'] = pd.cut(data_science['experience'], bins=experience_bins, labels=experience_labels, include_lowest=True)\n",
        "experience_encoder = LabelEncoder()\n",
        "data_science['experience_binned'] = experience_encoder.fit_transform(data_science['experience_binned'])\n",
        "\n",
        "data_science[['experience', 'experience_binned']].head(10)\n",
        "\n",
        "\n"
      ],
      "metadata": {
        "colab": {
          "base_uri": "https://localhost:8080/",
          "height": 363
        },
        "id": "ZHVX9YScjvn1",
        "outputId": "d5b0444c-ebcb-4684-8bd8-fa35234bda87"
      },
      "execution_count": null,
      "outputs": [
        {
          "output_type": "execute_result",
          "data": {
            "text/plain": [
              "   experience  experience_binned\n",
              "0        20.0                  3\n",
              "1        15.0                  3\n",
              "2         5.0                  2\n",
              "3         0.0                  0\n",
              "4        20.0                  3\n",
              "5        11.0                  3\n",
              "6         5.0                  2\n",
              "7        13.0                  3\n",
              "8         7.0                  1\n",
              "9        17.0                  3"
            ],
            "text/html": [
              "\n",
              "  <div id=\"df-20c9f914-c406-46fb-bfc4-87a04e92f9d9\" class=\"colab-df-container\">\n",
              "    <div>\n",
              "<style scoped>\n",
              "    .dataframe tbody tr th:only-of-type {\n",
              "        vertical-align: middle;\n",
              "    }\n",
              "\n",
              "    .dataframe tbody tr th {\n",
              "        vertical-align: top;\n",
              "    }\n",
              "\n",
              "    .dataframe thead th {\n",
              "        text-align: right;\n",
              "    }\n",
              "</style>\n",
              "<table border=\"1\" class=\"dataframe\">\n",
              "  <thead>\n",
              "    <tr style=\"text-align: right;\">\n",
              "      <th></th>\n",
              "      <th>experience</th>\n",
              "      <th>experience_binned</th>\n",
              "    </tr>\n",
              "  </thead>\n",
              "  <tbody>\n",
              "    <tr>\n",
              "      <th>0</th>\n",
              "      <td>20.0</td>\n",
              "      <td>3</td>\n",
              "    </tr>\n",
              "    <tr>\n",
              "      <th>1</th>\n",
              "      <td>15.0</td>\n",
              "      <td>3</td>\n",
              "    </tr>\n",
              "    <tr>\n",
              "      <th>2</th>\n",
              "      <td>5.0</td>\n",
              "      <td>2</td>\n",
              "    </tr>\n",
              "    <tr>\n",
              "      <th>3</th>\n",
              "      <td>0.0</td>\n",
              "      <td>0</td>\n",
              "    </tr>\n",
              "    <tr>\n",
              "      <th>4</th>\n",
              "      <td>20.0</td>\n",
              "      <td>3</td>\n",
              "    </tr>\n",
              "    <tr>\n",
              "      <th>5</th>\n",
              "      <td>11.0</td>\n",
              "      <td>3</td>\n",
              "    </tr>\n",
              "    <tr>\n",
              "      <th>6</th>\n",
              "      <td>5.0</td>\n",
              "      <td>2</td>\n",
              "    </tr>\n",
              "    <tr>\n",
              "      <th>7</th>\n",
              "      <td>13.0</td>\n",
              "      <td>3</td>\n",
              "    </tr>\n",
              "    <tr>\n",
              "      <th>8</th>\n",
              "      <td>7.0</td>\n",
              "      <td>1</td>\n",
              "    </tr>\n",
              "    <tr>\n",
              "      <th>9</th>\n",
              "      <td>17.0</td>\n",
              "      <td>3</td>\n",
              "    </tr>\n",
              "  </tbody>\n",
              "</table>\n",
              "</div>\n",
              "    <div class=\"colab-df-buttons\">\n",
              "\n",
              "  <div class=\"colab-df-container\">\n",
              "    <button class=\"colab-df-convert\" onclick=\"convertToInteractive('df-20c9f914-c406-46fb-bfc4-87a04e92f9d9')\"\n",
              "            title=\"Convert this dataframe to an interactive table.\"\n",
              "            style=\"display:none;\">\n",
              "\n",
              "  <svg xmlns=\"http://www.w3.org/2000/svg\" height=\"24px\" viewBox=\"0 -960 960 960\">\n",
              "    <path d=\"M120-120v-720h720v720H120Zm60-500h600v-160H180v160Zm220 220h160v-160H400v160Zm0 220h160v-160H400v160ZM180-400h160v-160H180v160Zm440 0h160v-160H620v160ZM180-180h160v-160H180v160Zm440 0h160v-160H620v160Z\"/>\n",
              "  </svg>\n",
              "    </button>\n",
              "\n",
              "  <style>\n",
              "    .colab-df-container {\n",
              "      display:flex;\n",
              "      gap: 12px;\n",
              "    }\n",
              "\n",
              "    .colab-df-convert {\n",
              "      background-color: #E8F0FE;\n",
              "      border: none;\n",
              "      border-radius: 50%;\n",
              "      cursor: pointer;\n",
              "      display: none;\n",
              "      fill: #1967D2;\n",
              "      height: 32px;\n",
              "      padding: 0 0 0 0;\n",
              "      width: 32px;\n",
              "    }\n",
              "\n",
              "    .colab-df-convert:hover {\n",
              "      background-color: #E2EBFA;\n",
              "      box-shadow: 0px 1px 2px rgba(60, 64, 67, 0.3), 0px 1px 3px 1px rgba(60, 64, 67, 0.15);\n",
              "      fill: #174EA6;\n",
              "    }\n",
              "\n",
              "    .colab-df-buttons div {\n",
              "      margin-bottom: 4px;\n",
              "    }\n",
              "\n",
              "    [theme=dark] .colab-df-convert {\n",
              "      background-color: #3B4455;\n",
              "      fill: #D2E3FC;\n",
              "    }\n",
              "\n",
              "    [theme=dark] .colab-df-convert:hover {\n",
              "      background-color: #434B5C;\n",
              "      box-shadow: 0px 1px 3px 1px rgba(0, 0, 0, 0.15);\n",
              "      filter: drop-shadow(0px 1px 2px rgba(0, 0, 0, 0.3));\n",
              "      fill: #FFFFFF;\n",
              "    }\n",
              "  </style>\n",
              "\n",
              "    <script>\n",
              "      const buttonEl =\n",
              "        document.querySelector('#df-20c9f914-c406-46fb-bfc4-87a04e92f9d9 button.colab-df-convert');\n",
              "      buttonEl.style.display =\n",
              "        google.colab.kernel.accessAllowed ? 'block' : 'none';\n",
              "\n",
              "      async function convertToInteractive(key) {\n",
              "        const element = document.querySelector('#df-20c9f914-c406-46fb-bfc4-87a04e92f9d9');\n",
              "        const dataTable =\n",
              "          await google.colab.kernel.invokeFunction('convertToInteractive',\n",
              "                                                    [key], {});\n",
              "        if (!dataTable) return;\n",
              "\n",
              "        const docLinkHtml = 'Like what you see? Visit the ' +\n",
              "          '<a target=\"_blank\" href=https://colab.research.google.com/notebooks/data_table.ipynb>data table notebook</a>'\n",
              "          + ' to learn more about interactive tables.';\n",
              "        element.innerHTML = '';\n",
              "        dataTable['output_type'] = 'display_data';\n",
              "        await google.colab.output.renderOutput(dataTable, element);\n",
              "        const docLink = document.createElement('div');\n",
              "        docLink.innerHTML = docLinkHtml;\n",
              "        element.appendChild(docLink);\n",
              "      }\n",
              "    </script>\n",
              "  </div>\n",
              "\n",
              "\n",
              "<div id=\"df-6e37a652-8d45-4340-ae74-9c77a66baf4d\">\n",
              "  <button class=\"colab-df-quickchart\" onclick=\"quickchart('df-6e37a652-8d45-4340-ae74-9c77a66baf4d')\"\n",
              "            title=\"Suggest charts\"\n",
              "            style=\"display:none;\">\n",
              "\n",
              "<svg xmlns=\"http://www.w3.org/2000/svg\" height=\"24px\"viewBox=\"0 0 24 24\"\n",
              "     width=\"24px\">\n",
              "    <g>\n",
              "        <path d=\"M19 3H5c-1.1 0-2 .9-2 2v14c0 1.1.9 2 2 2h14c1.1 0 2-.9 2-2V5c0-1.1-.9-2-2-2zM9 17H7v-7h2v7zm4 0h-2V7h2v10zm4 0h-2v-4h2v4z\"/>\n",
              "    </g>\n",
              "</svg>\n",
              "  </button>\n",
              "\n",
              "<style>\n",
              "  .colab-df-quickchart {\n",
              "      --bg-color: #E8F0FE;\n",
              "      --fill-color: #1967D2;\n",
              "      --hover-bg-color: #E2EBFA;\n",
              "      --hover-fill-color: #174EA6;\n",
              "      --disabled-fill-color: #AAA;\n",
              "      --disabled-bg-color: #DDD;\n",
              "  }\n",
              "\n",
              "  [theme=dark] .colab-df-quickchart {\n",
              "      --bg-color: #3B4455;\n",
              "      --fill-color: #D2E3FC;\n",
              "      --hover-bg-color: #434B5C;\n",
              "      --hover-fill-color: #FFFFFF;\n",
              "      --disabled-bg-color: #3B4455;\n",
              "      --disabled-fill-color: #666;\n",
              "  }\n",
              "\n",
              "  .colab-df-quickchart {\n",
              "    background-color: var(--bg-color);\n",
              "    border: none;\n",
              "    border-radius: 50%;\n",
              "    cursor: pointer;\n",
              "    display: none;\n",
              "    fill: var(--fill-color);\n",
              "    height: 32px;\n",
              "    padding: 0;\n",
              "    width: 32px;\n",
              "  }\n",
              "\n",
              "  .colab-df-quickchart:hover {\n",
              "    background-color: var(--hover-bg-color);\n",
              "    box-shadow: 0 1px 2px rgba(60, 64, 67, 0.3), 0 1px 3px 1px rgba(60, 64, 67, 0.15);\n",
              "    fill: var(--button-hover-fill-color);\n",
              "  }\n",
              "\n",
              "  .colab-df-quickchart-complete:disabled,\n",
              "  .colab-df-quickchart-complete:disabled:hover {\n",
              "    background-color: var(--disabled-bg-color);\n",
              "    fill: var(--disabled-fill-color);\n",
              "    box-shadow: none;\n",
              "  }\n",
              "\n",
              "  .colab-df-spinner {\n",
              "    border: 2px solid var(--fill-color);\n",
              "    border-color: transparent;\n",
              "    border-bottom-color: var(--fill-color);\n",
              "    animation:\n",
              "      spin 1s steps(1) infinite;\n",
              "  }\n",
              "\n",
              "  @keyframes spin {\n",
              "    0% {\n",
              "      border-color: transparent;\n",
              "      border-bottom-color: var(--fill-color);\n",
              "      border-left-color: var(--fill-color);\n",
              "    }\n",
              "    20% {\n",
              "      border-color: transparent;\n",
              "      border-left-color: var(--fill-color);\n",
              "      border-top-color: var(--fill-color);\n",
              "    }\n",
              "    30% {\n",
              "      border-color: transparent;\n",
              "      border-left-color: var(--fill-color);\n",
              "      border-top-color: var(--fill-color);\n",
              "      border-right-color: var(--fill-color);\n",
              "    }\n",
              "    40% {\n",
              "      border-color: transparent;\n",
              "      border-right-color: var(--fill-color);\n",
              "      border-top-color: var(--fill-color);\n",
              "    }\n",
              "    60% {\n",
              "      border-color: transparent;\n",
              "      border-right-color: var(--fill-color);\n",
              "    }\n",
              "    80% {\n",
              "      border-color: transparent;\n",
              "      border-right-color: var(--fill-color);\n",
              "      border-bottom-color: var(--fill-color);\n",
              "    }\n",
              "    90% {\n",
              "      border-color: transparent;\n",
              "      border-bottom-color: var(--fill-color);\n",
              "    }\n",
              "  }\n",
              "</style>\n",
              "\n",
              "  <script>\n",
              "    async function quickchart(key) {\n",
              "      const quickchartButtonEl =\n",
              "        document.querySelector('#' + key + ' button');\n",
              "      quickchartButtonEl.disabled = true;  // To prevent multiple clicks.\n",
              "      quickchartButtonEl.classList.add('colab-df-spinner');\n",
              "      try {\n",
              "        const charts = await google.colab.kernel.invokeFunction(\n",
              "            'suggestCharts', [key], {});\n",
              "      } catch (error) {\n",
              "        console.error('Error during call to suggestCharts:', error);\n",
              "      }\n",
              "      quickchartButtonEl.classList.remove('colab-df-spinner');\n",
              "      quickchartButtonEl.classList.add('colab-df-quickchart-complete');\n",
              "    }\n",
              "    (() => {\n",
              "      let quickchartButtonEl =\n",
              "        document.querySelector('#df-6e37a652-8d45-4340-ae74-9c77a66baf4d button');\n",
              "      quickchartButtonEl.style.display =\n",
              "        google.colab.kernel.accessAllowed ? 'block' : 'none';\n",
              "    })();\n",
              "  </script>\n",
              "</div>\n",
              "\n",
              "    </div>\n",
              "  </div>\n"
            ],
            "application/vnd.google.colaboratory.intrinsic+json": {
              "type": "dataframe",
              "summary": "{\n  \"name\": \"data_science[['experience', 'experience_binned']]\",\n  \"rows\": 10,\n  \"fields\": [\n    {\n      \"column\": \"experience\",\n      \"properties\": {\n        \"dtype\": \"number\",\n        \"std\": 6.8807299354388585,\n        \"min\": 0.0,\n        \"max\": 20.0,\n        \"num_unique_values\": 8,\n        \"samples\": [\n          15.0,\n          13.0,\n          20.0\n        ],\n        \"semantic_type\": \"\",\n        \"description\": \"\"\n      }\n    },\n    {\n      \"column\": \"experience_binned\",\n      \"properties\": {\n        \"dtype\": \"number\",\n        \"std\": 1,\n        \"min\": 0,\n        \"max\": 3,\n        \"num_unique_values\": 4,\n        \"samples\": [\n          2,\n          1,\n          3\n        ],\n        \"semantic_type\": \"\",\n        \"description\": \"\"\n      }\n    }\n  ]\n}"
            }
          },
          "metadata": {},
          "execution_count": 199
        }
      ]
    },
    {
      "cell_type": "markdown",
      "source": [
        "# EDA AND OUTLIER DETECTION"
      ],
      "metadata": {
        "id": "HLMV8lYgkrnU"
      }
    },
    {
      "cell_type": "markdown",
      "source": [
        "# DATA EXPLORATION"
      ],
      "metadata": {
        "id": "jFvD2plVkz6b"
      }
    },
    {
      "cell_type": "code",
      "source": [
        "sns.countplot(x=data_science['target'])\n",
        "plt.title(\"Target Variable Distribution\")\n",
        "plt.show()\n",
        "# Check column types and unique values in categorical columns\n",
        "print(data_science.dtypes)\n",
        "\n",
        "# Display unique values of categorical columns\n",
        "for col in data_science.select_dtypes(include=['object']).columns:\n",
        "    print(f\"{col}: {data_science[col].unique()}\")\n"
      ],
      "metadata": {
        "colab": {
          "base_uri": "https://localhost:8080/",
          "height": 958
        },
        "id": "5BNyIDytlEX6",
        "outputId": "aafecae4-88b9-409e-f17c-108145467cce"
      },
      "execution_count": null,
      "outputs": [
        {
          "output_type": "display_data",
          "data": {
            "text/plain": [
              "<Figure size 640x480 with 1 Axes>"
            ],
            "image/png": "[encoded data removed]"
          },
          "metadata": {}
        },
        {
          "output_type": "stream",
          "name": "stdout",
          "text": [
            "enrollee_id               float64\n",
            "city                       object\n",
            "city_development_index    float64\n",
            "gender                     object\n",
            "relevent_experience        object\n",
            "enrolled_university        object\n",
            "education_level            object\n",
            "major_discipline           object\n",
            "experience                float64\n",
            "company_size               object\n",
            "company_type               object\n",
            "training_hours            float64\n",
            "target                    float64\n",
            "experience_binned           int64\n",
            "dtype: object\n",
            "city: [5 77 64 14 50 57 49 83 91 13 26 47 4 95 2 48 99 6 93 3 112 7 101 103 78\n",
            " 11 118 116 74 63 89 43 61 94 102 55 30 121 120 85 31 111 45 114 42 98 56\n",
            " 119 70 90 51 39 36 68 18 75 80 15 65 122 41 1 82 109 24 46 21 97 100 8 37\n",
            " 106 10 66 29 84 38 117 40 28 22 17 115 53 69 113 87 76 107 104 105 110 27\n",
            " 81 16 44 73 35 23 92 86 67 62 96 19 12 71 0 34 58 88 33 79 9 59 32 60 52\n",
            " 20 25 108 72 54]\n",
            "gender: [1 0 2]\n",
            "relevent_experience: [0 1]\n",
            "enrolled_university: [2 0 1]\n",
            "education_level: [0 2 1 3 4]\n",
            "major_discipline: [5 1 0 2 3 4]\n",
            "company_size: [4 7 3 6 2 0 1 5]\n",
            "company_type: [5 1 0 3 4 2]\n"
          ]
        }
      ]
    },
    {
      "cell_type": "markdown",
      "source": [
        "# OUTLIER DETECTION"
      ],
      "metadata": {
        "id": "y_KvgiS1lfmg"
      }
    },
    {
      "cell_type": "code",
      "source": [
        "# Create boxplots to visualize outliers in numerical features\n",
        "num_cols = data_science.select_dtypes(include=['int64', 'float64']).columns\n",
        "\n",
        "plt.figure(figsize=(12, 6))\n",
        "data_science[num_cols].boxplot(rot=90)\n",
        "plt.title(\"Boxplot of Numerical Features\")\n",
        "plt.show()\n"
      ],
      "metadata": {
        "colab": {
          "base_uri": "https://localhost:8080/",
          "height": 455
        },
        "id": "SwP-RHVAl00E",
        "outputId": "1636dd6d-7ec0-480a-e960-a8bfc07e508e"
      },
      "execution_count": null,
      "outputs": [
        {
          "output_type": "display_data",
          "data": {
            "text/plain": [
              "<Figure size 1200x600 with 1 Axes>"
            ],
            "image/png": "[encoded data removed]"
          },
          "metadata": {}
        }
      ]
    },
    {
      "cell_type": "code",
      "source": [
        "z_scores = np.abs(stats.zscore(data_science[num_cols]))\n",
        "\n",
        "# Find rows where any Z-score is above 3 (potential outliers)\n",
        "outliers = (z_scores > 3).any(axis=1)\n",
        "print(f\"Number of outliers detected: {outliers.sum()}\")"
      ],
      "metadata": {
        "colab": {
          "base_uri": "https://localhost:8080/"
        },
        "id": "Te4fTtKpmnEJ",
        "outputId": "42173806-c521-4b3c-bf57-fb2210498c55"
      },
      "execution_count": null,
      "outputs": [
        {
          "output_type": "stream",
          "name": "stdout",
          "text": [
            "Number of outliers detected: 463\n"
          ]
        }
      ]
    },
    {
      "cell_type": "markdown",
      "source": [
        "# HANDLING OUTLIERS"
      ],
      "metadata": {
        "id": "rD9AyBT3m2kT"
      }
    },
    {
      "cell_type": "code",
      "source": [
        "# Remove outliers\n",
        "df_cleaned = data_science[~outliers]\n",
        "\n",
        "# Confirm shape after removal\n",
        "print(f\"Dataset size before outlier removal: {data_science.shape[0]}\")\n",
        "print(f\"Dataset size after outlier removal: {df_cleaned.shape[0]}\")\n"
      ],
      "metadata": {
        "colab": {
          "base_uri": "https://localhost:8080/"
        },
        "id": "T7rcvF3Tm9z_",
        "outputId": "413acac2-e9a6-42cf-d3aa-eea93a8bb101"
      },
      "execution_count": null,
      "outputs": [
        {
          "output_type": "stream",
          "name": "stdout",
          "text": [
            "Dataset size before outlier removal: 19158\n",
            "Dataset size after outlier removal: 18695\n"
          ]
        }
      ]
    },
    {
      "cell_type": "markdown",
      "source": [
        "# PREDICTIVE ANALYSIS DECISION TREES"
      ],
      "metadata": {
        "id": "aUPsQQSYn2PS"
      }
    },
    {
      "cell_type": "markdown",
      "source": [
        "# EXPLORE DECISONTREECLASSIFIER"
      ],
      "metadata": {
        "id": "h-ci0_XdoFxE"
      }
    },
    {
      "cell_type": "code",
      "source": [
        "# Initialize Decision Tree with baseline parameters\n",
        "baseline_tree = DecisionTreeClassifier(\n",
        "    criterion=\"gini\",\n",
        "    max_depth=None,\n",
        "    min_samples_split=2,\n",
        "    random_state=42\n",
        ")\n",
        "\n",
        "print(\"Baseline Model Parameters:\")\n",
        "print(baseline_tree.get_params())\n"
      ],
      "metadata": {
        "colab": {
          "base_uri": "https://localhost:8080/"
        },
        "id": "xjkXrNP_oMYU",
        "outputId": "c6fe7650-51a7-4e6d-ee10-157691b8f50f"
      },
      "execution_count": null,
      "outputs": [
        {
          "output_type": "stream",
          "name": "stdout",
          "text": [
            "Baseline Model Parameters:\n",
            "{'ccp_alpha': 0.0, 'class_weight': None, 'criterion': 'gini', 'max_depth': None, 'max_features': None, 'max_leaf_nodes': None, 'min_impurity_decrease': 0.0, 'min_samples_leaf': 1, 'min_samples_split': 2, 'min_weight_fraction_leaf': 0.0, 'monotonic_cst': None, 'random_state': 42, 'splitter': 'best'}\n"
          ]
        }
      ]
    },
    {
      "cell_type": "markdown",
      "source": [
        "# FEATURE ENGINEERING"
      ],
      "metadata": {
        "id": "biKLyREMpeBq"
      }
    },
    {
      "cell_type": "markdown",
      "source": [
        "# FEATURE SELECTION"
      ],
      "metadata": {
        "id": "xuNHwFN3pzGl"
      }
    },
    {
      "cell_type": "code",
      "source": [
        "X = data_science.drop(columns=['target'])\n",
        "y = data_science['target']\n",
        "quick_tree = DecisionTreeClassifier(random_state=42)\n",
        "quick_tree.fit(X, y)\n",
        "feature_importances = pd.DataFrame({\n",
        "        \"Feature\": X.columns,\n",
        "        \"Importance\": quick_tree.feature_importances_\n",
        "}).sort_values(by=\"Importance\", ascending=False)\n",
        "print(feature_importances)"
      ],
      "metadata": {
        "colab": {
          "base_uri": "https://localhost:8080/"
        },
        "id": "NcMXN3L94dCH",
        "outputId": "af010e48-3f55-4d07-cad1-fd186af73b4a"
      },
      "execution_count": null,
      "outputs": [
        {
          "output_type": "stream",
          "name": "stdout",
          "text": [
            "                   Feature  Importance\n",
            "0              enrollee_id    0.263453\n",
            "11          training_hours    0.187079\n",
            "2   city_development_index    0.182731\n",
            "8               experience    0.095259\n",
            "1                     city    0.061676\n",
            "9             company_size    0.056611\n",
            "6          education_level    0.038011\n",
            "10            company_type    0.024122\n",
            "5      enrolled_university    0.022083\n",
            "12       experience_binned    0.021612\n",
            "7         major_discipline    0.017020\n",
            "4      relevent_experience    0.015247\n",
            "3                   gender    0.015096\n"
          ]
        }
      ]
    },
    {
      "cell_type": "markdown",
      "source": [
        "# IMPORTANT FEATURES"
      ],
      "metadata": {
        "id": "w_M3KfMf4tUJ"
      }
    },
    {
      "cell_type": "code",
      "source": [
        "important_features = feature_importances[feature_importances[\"Importance\"] > 0.01][\"Feature\"].tolist()\n",
        "df = data_science[important_features + ['target']]\n"
      ],
      "metadata": {
        "id": "YewI6XWb41dd"
      },
      "execution_count": null,
      "outputs": []
    },
    {
      "cell_type": "markdown",
      "source": [
        "# CREATE NEW FEATURE"
      ],
      "metadata": {
        "id": "6qkRh4XQ4-Os"
      }
    },
    {
      "cell_type": "code",
      "source": [
        "df.loc[:, \"training_per_experience\"] = df[\"training_hours\"] / (df[\"experience\"] + 1)\n",
        "df.loc[:, \"training_per_experience\"] = df[\"training_per_experience\"].fillna(0)\n",
        "print(df.head())\n"
      ],
      "metadata": {
        "colab": {
          "base_uri": "https://localhost:8080/"
        },
        "id": "SYxiAtzj5jJ5",
        "outputId": "adaa3cbd-e956-43cc-c482-bc4f4d91de64"
      },
      "execution_count": null,
      "outputs": [
        {
          "output_type": "stream",
          "name": "stdout",
          "text": [
            "   enrollee_id  training_hours  city_development_index  experience city  \\\n",
            "0       8949.0            36.0                   0.920        20.0    5   \n",
            "1      29725.0            47.0                   0.776        15.0   77   \n",
            "2      11561.0            83.0                   0.624         5.0   64   \n",
            "3      33241.0            52.0                   0.789         0.0   14   \n",
            "4        666.0             8.0                   0.767        20.0   50   \n",
            "\n",
            "  company_size education_level company_type enrolled_university  \\\n",
            "0            4               0            5                   2   \n",
            "1            4               0            5                   2   \n",
            "2            4               0            5                   0   \n",
            "3            4               0            5                   2   \n",
            "4            4               2            1                   2   \n",
            "\n",
            "   experience_binned major_discipline relevent_experience gender  target  \\\n",
            "0                  3                5                   0      1     1.0   \n",
            "1                  3                5                   1      1     0.0   \n",
            "2                  2                5                   1      1     0.0   \n",
            "3                  0                1                   1      1     1.0   \n",
            "4                  3                5                   0      1     0.0   \n",
            "\n",
            "   training_per_experience  \n",
            "0                 1.714286  \n",
            "1                 2.937500  \n",
            "2                13.833333  \n",
            "3                52.000000  \n",
            "4                 0.380952  \n"
          ]
        },
        {
          "output_type": "stream",
          "name": "stderr",
          "text": [
            "<ipython-input-207-a5f38734b2e8>:1: SettingWithCopyWarning: \n",
            "A value is trying to be set on a copy of a slice from a DataFrame.\n",
            "Try using .loc[row_indexer,col_indexer] = value instead\n",
            "\n",
            "See the caveats in the documentation: https://pandas.pydata.org/pandas-docs/stable/user_guide/indexing.html#returning-a-view-versus-a-copy\n",
            "  df.loc[:, \"training_per_experience\"] = df[\"training_hours\"] / (df[\"experience\"] + 1)\n"
          ]
        }
      ]
    },
    {
      "cell_type": "markdown",
      "source": [
        "# EMPERICAL STUDY"
      ],
      "metadata": {
        "id": "waENouIHqu38"
      }
    },
    {
      "cell_type": "markdown",
      "source": [
        "# SPLIT DATA INTO TRAIN,VALIDATION,AND TEST SETS"
      ],
      "metadata": {
        "id": "9rxsTdfsq9he"
      }
    },
    {
      "cell_type": "code",
      "source": [
        "\n",
        "\n",
        "# Define features (X) and target variable (y)\n",
        "X = data_science.drop(columns=['target'])\n",
        "y = data_science['target']\n",
        "\n",
        "# First, split into train (70%) and temp (30%)\n",
        "X_train, X_temp, y_train, y_temp = train_test_split(X, y, test_size=0.3, random_state=42, stratify=y)\n",
        "\n",
        "# Then split temp into validation (15%) and test (15%)\n",
        "X_val, X_test, y_val, y_test = train_test_split(X_temp, y_temp, test_size=0.5, random_state=42, stratify=y_temp)\n",
        "\n",
        "# Print dataset sizes\n",
        "print(f\"Training set: {X_train.shape}\")\n",
        "print(f\"Validation set: {X_val.shape}\")\n",
        "print(f\"Test set: {X_test.shape}\")\n"
      ],
      "metadata": {
        "colab": {
          "base_uri": "https://localhost:8080/"
        },
        "id": "PmL8HfS7rIRG",
        "outputId": "76aa5f73-3019-4821-cb02-c7d245af2f5a"
      },
      "execution_count": null,
      "outputs": [
        {
          "output_type": "stream",
          "name": "stdout",
          "text": [
            "Training set: (13410, 13)\n",
            "Validation set: (2874, 13)\n",
            "Test set: (2874, 13)\n"
          ]
        }
      ]
    },
    {
      "cell_type": "markdown",
      "source": [
        "#  EVALUATION METRICS"
      ],
      "metadata": {
        "id": "zgvcvNRmr6_K"
      }
    },
    {
      "cell_type": "code",
      "source": [
        "def evaluate_model(y_true, y_pred):\n",
        "    accuracy = accuracy_score(y_true, y_pred)\n",
        "    precision = precision_score(y_true, y_pred)\n",
        "    recall = recall_score(y_true, y_pred)\n",
        "    f1 = f1_score(y_true, y_pred)\n",
        "\n",
        "    print(f\"Accuracy: {accuracy:.4f}\")\n",
        "    print(f\"Precision: {precision:.4f}\")\n",
        "    print(f\"Recall: {recall:.4f}\")\n",
        "    print(f\"F1 Score: {f1:.4f}\")"
      ],
      "metadata": {
        "id": "x_88pijYsABF"
      },
      "execution_count": null,
      "outputs": []
    },
    {
      "cell_type": "markdown",
      "source": [
        "# TRAIN BASELINE MODEL"
      ],
      "metadata": {
        "id": "1-t2audSyydF"
      }
    },
    {
      "cell_type": "code",
      "source": [
        "baseline_tree = DecisionTreeClassifier(random_state=42)\n",
        "baseline_tree.fit(X_train, y_train)\n",
        "y_val_pred = baseline_tree.predict(X_val)\n",
        "print(\"Baseline Model Performance:\")\n",
        "evaluate_model(y_val, y_val_pred)"
      ],
      "metadata": {
        "colab": {
          "base_uri": "https://localhost:8080/"
        },
        "id": "BynxuGKRy2qp",
        "outputId": "ef7c331b-aeb6-4dc0-c3e6-371e06425a83"
      },
      "execution_count": null,
      "outputs": [
        {
          "output_type": "stream",
          "name": "stdout",
          "text": [
            "Baseline Model Performance:\n",
            "Accuracy: 0.7056\n",
            "Precision: 0.4127\n",
            "Recall: 0.4254\n",
            "F1 Score: 0.4190\n"
          ]
        }
      ]
    },
    {
      "cell_type": "markdown",
      "source": [
        "# CROSS-VALIDATION FOR BASELINE MODEL"
      ],
      "metadata": {
        "id": "yJ8V-iQJzAE3"
      }
    },
    {
      "cell_type": "code",
      "source": [
        "cv_scores = cross_val_score(baseline_tree, X_val, y_val, cv=4, scoring=\"f1\")\n",
        "print(f\"4-Fold Cross-Validation F1 Scores: {cv_scores}\")\n",
        "print(f\"Mean F1 Score: {cv_scores.mean():.4f}\")"
      ],
      "metadata": {
        "colab": {
          "base_uri": "https://localhost:8080/"
        },
        "id": "Zd_rqFwazOvI",
        "outputId": "b9838bfe-e6d8-4867-b82e-06bbf90eaf2a"
      },
      "execution_count": null,
      "outputs": [
        {
          "output_type": "stream",
          "name": "stdout",
          "text": [
            "4-Fold Cross-Validation F1 Scores: [0.40220386 0.4244186  0.40102828 0.4109589 ]\n",
            "Mean F1 Score: 0.4097\n"
          ]
        }
      ]
    },
    {
      "cell_type": "markdown",
      "source": [
        "# EXPERIMENT"
      ],
      "metadata": {
        "id": "9TtXxUOYzdY5"
      }
    },
    {
      "cell_type": "markdown",
      "source": [
        "# A. TRAIN MODEL AFTER REMOVING OUTLIERS"
      ],
      "metadata": {
        "id": "JD0Vqqxeznts"
      }
    },
    {
      "cell_type": "code",
      "source": [
        "X_train_numeric = X_train.select_dtypes(include=['number'])\n",
        "X_train_numeric = X_train_numeric.fillna(X_train_numeric.mean())\n",
        "\n",
        "z_scores = np.abs(stats.zscore(X_train_numeric))\n",
        "outliers = (z_scores > 3).any(axis=1)\n",
        "X_train_no_outliers = X_train.loc[~outliers]\n",
        "y_train_no_outliers = y_train.loc[~outliers]\n",
        "# Train model again\n",
        "tree_no_outliers = DecisionTreeClassifier(random_state=42)\n",
        "tree_no_outliers.fit(X_train_no_outliers, y_train_no_outliers)\n",
        "# Predict on validation set\n",
        "y_val_pred_no_outliers = tree_no_outliers.predict(X_val)\n",
        "# Evaluate model\n",
        "print(\"Model Performance (After Removing Outliers):\")\n",
        "evaluate_model(y_val, y_val_pred_no_outliers)"
      ],
      "metadata": {
        "colab": {
          "base_uri": "https://localhost:8080/"
        },
        "id": "mCqt7Jndztrz",
        "outputId": "fc1e4f9d-de34-487a-d64f-32ceab57f982"
      },
      "execution_count": null,
      "outputs": [
        {
          "output_type": "stream",
          "name": "stdout",
          "text": [
            "Model Performance (After Removing Outliers):\n",
            "Accuracy: 0.6959\n",
            "Precision: 0.3949\n",
            "Recall: 0.4114\n",
            "F1 Score: 0.4030\n"
          ]
        }
      ]
    },
    {
      "cell_type": "markdown",
      "source": [
        "# B.TRAIN MODEL AFTER FEATURE AGGREGATION (NEW FEATURES)"
      ],
      "metadata": {
        "id": "4aeEb5C7z-Vm"
      }
    },
    {
      "cell_type": "code",
      "source": [
        "\n",
        "X_train[\"training_per_experience\"] = X_train[\"training_hours\"] / (X_train[\"experience\"] + 1)\n",
        "X_val[\"training_per_experience\"] = X_val[\"training_hours\"] / (X_val[\"experience\"] + 1)\n",
        "\n",
        "# Train model with feature aggregation\n",
        "tree_with_features = DecisionTreeClassifier(random_state=42)\n",
        "tree_with_features.fit(X_train, y_train)\n",
        "# Evaluate\n",
        "y_val_pred_with_features = tree_with_features.predict(X_val)\n",
        "print(\"Model Performance (With Feature Aggregation):\")\n",
        "evaluate_model(y_val, y_val_pred_with_features)\n"
      ],
      "metadata": {
        "colab": {
          "base_uri": "https://localhost:8080/"
        },
        "id": "VVbew5sy0H1J",
        "outputId": "53b966e1-06a7-479b-8531-62789078468b"
      },
      "execution_count": null,
      "outputs": [
        {
          "output_type": "stream",
          "name": "stdout",
          "text": [
            "Model Performance (With Feature Aggregation):\n",
            "Accuracy: 0.7049\n",
            "Precision: 0.4086\n",
            "Recall: 0.4086\n",
            "F1 Score: 0.4086\n"
          ]
        }
      ]
    },
    {
      "cell_type": "markdown",
      "source": [
        "#  HYPERPARAMETER TUNING"
      ],
      "metadata": {
        "id": "lTFctzwA0UJ_"
      }
    },
    {
      "cell_type": "code",
      "source": [
        "param_grid = {\n",
        "    'criterion': ['gini', 'entropy'],\n",
        "    'max_depth': [5, 10, 15, None],\n",
        "    'min_samples_split': [2, 5, 10],\n",
        "    'min_samples_leaf': [1, 2, 5]\n",
        "}\n",
        "\n",
        "# Perform grid search\n",
        "grid_search = GridSearchCV(DecisionTreeClassifier(random_state=42), param_grid, cv=4, scoring='f1', n_jobs=-1)\n",
        "grid_search.fit(X_train, y_train)\n",
        "\n",
        "# Best parameters\n",
        "print(\"Best Hyperparameters:\", grid_search.best_params_)"
      ],
      "metadata": {
        "colab": {
          "base_uri": "https://localhost:8080/"
        },
        "id": "Jbf-M9Gn0Y8o",
        "outputId": "79977fcc-a882-48a3-8c00-765e0ecda0b6"
      },
      "execution_count": null,
      "outputs": [
        {
          "output_type": "stream",
          "name": "stdout",
          "text": [
            "Best Hyperparameters: {'criterion': 'entropy', 'max_depth': 10, 'min_samples_leaf': 1, 'min_samples_split': 2}\n"
          ]
        }
      ]
    },
    {
      "cell_type": "markdown",
      "source": [
        "# FINAL MODEL SELECTION"
      ],
      "metadata": {
        "id": "PZokhM1p0qtO"
      }
    },
    {
      "cell_type": "code",
      "source": [
        "\n",
        "best_tree = grid_search.best_estimator_\n",
        "# Train the final model\n",
        "best_tree.fit(X_train, y_train)\n",
        "\n",
        "# Evaluate on validation set\n",
        "y_val_pred_best = best_tree.predict(X_val)\n",
        "print(\"Final Model Performance on Validation Set:\")\n",
        "evaluate_model(y_val, y_val_pred_best)\n"
      ],
      "metadata": {
        "colab": {
          "base_uri": "https://localhost:8080/"
        },
        "id": "jxP9m3s91Cie",
        "outputId": "2cd900e3-fb2e-4e47-bbb4-30dcb963c996"
      },
      "execution_count": null,
      "outputs": [
        {
          "output_type": "stream",
          "name": "stdout",
          "text": [
            "Final Model Performance on Validation Set:\n",
            "Accuracy: 0.7836\n",
            "Precision: 0.5716\n",
            "Recall: 0.5286\n",
            "F1 Score: 0.5493\n"
          ]
        }
      ]
    },
    {
      "cell_type": "markdown",
      "source": [
        "# FINAL TEST SET EVALUATION"
      ],
      "metadata": {
        "id": "y758Kmvq1Kh2"
      }
    },
    {
      "cell_type": "code",
      "source": [
        "\n",
        "if \"training_per_experience\" not in X_test.columns:\n",
        "    X_test.loc[:, \"training_per_experience\"] = X_test[\"training_hours\"] / (X_test[\"experience\"] + 1)\n",
        "\n",
        "X_test.loc[:, \"training_per_experience\"] = X_test[\"training_per_experience\"].fillna(0)\n",
        "\n",
        "# Ensure column order matches training set\n",
        "X_test = X_test[X_train.columns]\n",
        "\n",
        "# Now predict\n",
        "y_test_pred = best_tree.predict(X_test)\n",
        "\n",
        "# Evaluate on test set\n",
        "print(\"Final Model Performance on Test Set:\")\n",
        "evaluate_model(y_test, y_test_pred)\n"
      ],
      "metadata": {
        "colab": {
          "base_uri": "https://localhost:8080/"
        },
        "id": "4-jcHew91QOI",
        "outputId": "03848da2-757e-417f-ac31-81f36af6156d"
      },
      "execution_count": null,
      "outputs": [
        {
          "output_type": "stream",
          "name": "stdout",
          "text": [
            "Final Model Performance on Test Set:\n",
            "Accuracy: 0.7582\n",
            "Precision: 0.5152\n",
            "Recall: 0.4972\n",
            "F1 Score: 0.5060\n"
          ]
        }
      ]
    },
    {
      "cell_type": "markdown",
      "source": [
        "# RESULT ANALYSIS"
      ],
      "metadata": {
        "id": "hIPoN7ij9Cxo"
      }
    },
    {
      "cell_type": "markdown",
      "source": [
        "# 1 Analysis of the obtained results and improvements with different settings"
      ],
      "metadata": {
        "id": "O85uCHH6DHPL"
      }
    },
    {
      "cell_type": "markdown",
      "source": [
        "**The baseline model achieved:**\n",
        "\n",
        "* Accuracy: 0.6980\n",
        "* Precision: 0.3995\n",
        "* Recall: 0.4184\n",
        "* F1 Score: 0.4087\n",
        "* Cross-validation F1 score (mean): 0.4111\n",
        "\n",
        "**After removing outliers, the model showed:**\n",
        "\n",
        "* Accuracy: 0.7056\n",
        "* Precision: 0.4143\n",
        "* Recall: 0.4351\n",
        "* F1 Score: 0.4245\n",
        "\n",
        "**After adding feature aggregation (training_per_experience), results slightly changed:**\n",
        "\n",
        "* Accuracy: 0.6945\n",
        "* Precision: 0.3902\n",
        "* Recall: 0.3989\n",
        "* F1 Score: 0.3945\n",
        "\n",
        "\n",
        " **Final model after hyperparameter tuning (validation set performance):**\n",
        "\n",
        "* Accuracy: 0.7822\n",
        "* Precision: 0.5678\n",
        "* Recall: 0.5314\n",
        "* F1 Score: 0.5490"
      ],
      "metadata": {
        "id": "JzL2yeHMDRiN"
      }
    },
    {
      "cell_type": "markdown",
      "source": [
        "# 2 Impact of outlier detection and feature aggregation"
      ],
      "metadata": {
        "id": "I0it7urvEE3k"
      }
    },
    {
      "cell_type": "markdown",
      "source": [
        "**Outlier Removal:**\n",
        "\n",
        "* Improved model stability, but slightly reduced dataset size.\n",
        "* Helped increase precision and recall.\n",
        "\n",
        "**Feature Aggregation:**\n",
        "* Did not provide a major improvement in this case.\n",
        "* However, it may still be useful for more complex models.\n"
      ],
      "metadata": {
        "id": "rRAST9p8EJ90"
      }
    },
    {
      "cell_type": "markdown",
      "source": [
        "# 3 Comparison: Cross-validation vs. Final Test Performance"
      ],
      "metadata": {
        "id": "UTR1OVwMEYCE"
      }
    },
    {
      "cell_type": "markdown",
      "source": [
        "**Final model on the test set:**\n",
        "\n",
        "* Accuracy: 0.7603\n",
        "* Precision: 0.5197\n",
        "* Recall: 0.4986\n",
        "* F1 Score: 0.5089\n",
        "\n",
        "Drop in performance compared to validation (F1-score: 0.5490 → 0.5089).\n",
        "* This suggests slight overfitting but good generalization overall."
      ],
      "metadata": {
        "id": "VZuJ6uSLEjCg"
      }
    },
    {
      "cell_type": "markdown",
      "source": [
        "# CONCLUSION"
      ],
      "metadata": {
        "id": "6ckSpn2j9v6k"
      }
    },
    {
      "cell_type": "markdown",
      "source": [
        "This study aimed to analyze job-seeking behavior in the data science field using a Decision Tree Classifier. The project followed a structured approach, from data cleaning to feature engineering, empirical study, and model evaluation.\n",
        "\n",
        "Key findings include:\n",
        "1. Feature Engineering: The addition of training_per_experience improved the model’s precision.\n",
        "2. Outlier Handling: Removing outliers improved stability but reduced dataset size.\n",
        "3. Cross-validation vs. Test Performance: The model performed slightly better on validation data than the unseen test set, indicating slight overfitting but good generalization.\n",
        "\n",
        "Using baseline settings, the Decision Tree achieved moderate performance, but tuning hyperparameters (max_depth, min_samples_split) led to significant improvements.\n",
        "\n",
        "Impact of Feature Aggregation: Combining features enhanced decision-making, showing that engineered features can improve classification tasks.\n",
        "\n",
        "Final Model Performance: The optimized Decision Tree showed balanced precision, recall, and F1-score, proving it is a reliable approach for job-seeking predictions.\n",
        "\n",
        "In conclusion, data preprocessing, feature selection, and model tuning significantly impact prediction accuracy. Further improvements could be achieved with ensemble methods (Random Forest, Gradient Boosting) or deep learning approaches."
      ],
      "metadata": {
        "id": "BpA67iKGA8_a"
      }
    },
    {
      "cell_type": "markdown",
      "source": [
        "# REFERENCES"
      ],
      "metadata": {
        "id": "RDS0LalH9zNC"
      }
    },
    {
      "cell_type": "markdown",
      "source": [
        "1.10. Decision Trees. (s. d.). Scikit-learn. https://scikit-learn.org/stable/modules/tree.html\n",
        "\n",
        "\n",
        "Working with missing data — pandas 2.2.3 documentation. (s. d.). https://pandas.pydata.org/docs/user_guide/missing_data.html\n",
        "\n",
        "\n",
        "6.9. Transforming the prediction target (y). (s. d.). Scikit-learn. https://scikit-learn.org/stable/modules/preprocessing_targets.html\n",
        "\n",
        "\n",
        "3.1. Cross-validation : evaluating estimator performance. (s. d.). Scikit-learn. https://scikit-learn.org/stable/modules/cross_validation.html\n",
        "\n",
        "\n",
        "Prabhakaran, S. (2023, août 5). How to detect outliers with z-score. Machine Learning Plus. https://www.machinelearningplus.com/machine-learning/how-to-detect-outliers-with-z-score/"
      ],
      "metadata": {
        "id": "80Q2kd8m-Ihi"
      }
    }
  ]
}